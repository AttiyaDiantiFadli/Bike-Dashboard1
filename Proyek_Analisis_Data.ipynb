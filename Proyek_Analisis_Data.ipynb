{
  "cells": [
    {
      "cell_type": "markdown",
      "metadata": {
        "id": "H9wADwK78DCz"
      },
      "source": [
        "# Proyek Analisis Data: Bike Sharing Dataset\n",
        "- **Nama:** Attiya Dianti Fadli\n",
        "- **Email:** attiyadiantifadli@gmail.com\n",
        "- **ID Dicoding:** MC189D5X0806"
      ]
    },
    {
      "cell_type": "markdown",
      "metadata": {
        "id": "eE0raob58DC0"
      },
      "source": [
        "## Menentukan Pertanyaan Bisnis"
      ]
    },
    {
      "cell_type": "markdown",
      "metadata": {
        "id": "GmQeQ5YF8DC0"
      },
      "source": [
        "- Bagaimana pengaruh musim terhadap jumlah penyewaan sepeda?\n",
        "- Bagaimana tren penggunaan sepeda pada hari kerja dibandingkan akhir pekan?\n",
        "- Jam berapa jumlah penyewaan sepeda paling tinggi dalam sehari?"
      ]
    },
    {
      "cell_type": "markdown",
      "metadata": {
        "id": "H-z4QGlO8DC1"
      },
      "source": [
        "## Import Semua Packages/Library yang Digunakan"
      ]
    },
    {
      "cell_type": "code",
      "execution_count": 91,
      "metadata": {
        "id": "FVYwaObI8DC1"
      },
      "outputs": [],
      "source": [
        "import pandas as pd\n",
        "import numpy as np\n",
        "import matplotlib.pyplot as plt\n",
        "import seaborn as sns"
      ]
    },
    {
      "cell_type": "markdown",
      "source": [
        "**Insight:**\n",
        "- pandas, digunakan untuk manipulasi dan analisis data berbasis tabel (DataFrame).\n",
        "- numpy, digunakan untuk operasi komputasi numerik, seperti array multidimensi dan fungsi matematika.\n",
        "- matplotlib.pyplot, digunakan untuk membuat visualisasi grafik dasar dalam Python.\n",
        "- seaborn, pustaka yang berbasis matplotlib, digunakan untuk membuat visualisasi statistik yang lebih menarik dan informatif."
      ],
      "metadata": {
        "id": "1GFZRfEaLRch"
      }
    },
    {
      "cell_type": "code",
      "source": [
        "sns.set(style=\"whitegrid\")"
      ],
      "metadata": {
        "id": "Dj6Mbhn3f0aF"
      },
      "execution_count": 92,
      "outputs": []
    },
    {
      "cell_type": "markdown",
      "metadata": {
        "id": "h_Sh51Xy8DC1"
      },
      "source": [
        "## Data Wrangling"
      ]
    },
    {
      "cell_type": "markdown",
      "metadata": {
        "id": "sXU2GBYu8DC1"
      },
      "source": [
        "### Gathering Data"
      ]
    },
    {
      "cell_type": "code",
      "execution_count": 93,
      "metadata": {
        "id": "zjCBk1BI8DC1",
        "colab": {
          "base_uri": "https://localhost:8080/",
          "height": 107
        },
        "outputId": "960b4851-725e-4bb7-dc5d-49e365096877"
      },
      "outputs": [
        {
          "output_type": "display_data",
          "data": {
            "text/plain": [
              "<IPython.core.display.HTML object>"
            ],
            "text/html": [
              "\n",
              "     <input type=\"file\" id=\"files-fba34b5e-764e-41c2-a4a0-8011a1526a0e\" name=\"files[]\" multiple disabled\n",
              "        style=\"border:none\" />\n",
              "     <output id=\"result-fba34b5e-764e-41c2-a4a0-8011a1526a0e\">\n",
              "      Upload widget is only available when the cell has been executed in the\n",
              "      current browser session. Please rerun this cell to enable.\n",
              "      </output>\n",
              "      <script>// Copyright 2017 Google LLC\n",
              "//\n",
              "// Licensed under the Apache License, Version 2.0 (the \"License\");\n",
              "// you may not use this file except in compliance with the License.\n",
              "// You may obtain a copy of the License at\n",
              "//\n",
              "//      http://www.apache.org/licenses/LICENSE-2.0\n",
              "//\n",
              "// Unless required by applicable law or agreed to in writing, software\n",
              "// distributed under the License is distributed on an \"AS IS\" BASIS,\n",
              "// WITHOUT WARRANTIES OR CONDITIONS OF ANY KIND, either express or implied.\n",
              "// See the License for the specific language governing permissions and\n",
              "// limitations under the License.\n",
              "\n",
              "/**\n",
              " * @fileoverview Helpers for google.colab Python module.\n",
              " */\n",
              "(function(scope) {\n",
              "function span(text, styleAttributes = {}) {\n",
              "  const element = document.createElement('span');\n",
              "  element.textContent = text;\n",
              "  for (const key of Object.keys(styleAttributes)) {\n",
              "    element.style[key] = styleAttributes[key];\n",
              "  }\n",
              "  return element;\n",
              "}\n",
              "\n",
              "// Max number of bytes which will be uploaded at a time.\n",
              "const MAX_PAYLOAD_SIZE = 100 * 1024;\n",
              "\n",
              "function _uploadFiles(inputId, outputId) {\n",
              "  const steps = uploadFilesStep(inputId, outputId);\n",
              "  const outputElement = document.getElementById(outputId);\n",
              "  // Cache steps on the outputElement to make it available for the next call\n",
              "  // to uploadFilesContinue from Python.\n",
              "  outputElement.steps = steps;\n",
              "\n",
              "  return _uploadFilesContinue(outputId);\n",
              "}\n",
              "\n",
              "// This is roughly an async generator (not supported in the browser yet),\n",
              "// where there are multiple asynchronous steps and the Python side is going\n",
              "// to poll for completion of each step.\n",
              "// This uses a Promise to block the python side on completion of each step,\n",
              "// then passes the result of the previous step as the input to the next step.\n",
              "function _uploadFilesContinue(outputId) {\n",
              "  const outputElement = document.getElementById(outputId);\n",
              "  const steps = outputElement.steps;\n",
              "\n",
              "  const next = steps.next(outputElement.lastPromiseValue);\n",
              "  return Promise.resolve(next.value.promise).then((value) => {\n",
              "    // Cache the last promise value to make it available to the next\n",
              "    // step of the generator.\n",
              "    outputElement.lastPromiseValue = value;\n",
              "    return next.value.response;\n",
              "  });\n",
              "}\n",
              "\n",
              "/**\n",
              " * Generator function which is called between each async step of the upload\n",
              " * process.\n",
              " * @param {string} inputId Element ID of the input file picker element.\n",
              " * @param {string} outputId Element ID of the output display.\n",
              " * @return {!Iterable<!Object>} Iterable of next steps.\n",
              " */\n",
              "function* uploadFilesStep(inputId, outputId) {\n",
              "  const inputElement = document.getElementById(inputId);\n",
              "  inputElement.disabled = false;\n",
              "\n",
              "  const outputElement = document.getElementById(outputId);\n",
              "  outputElement.innerHTML = '';\n",
              "\n",
              "  const pickedPromise = new Promise((resolve) => {\n",
              "    inputElement.addEventListener('change', (e) => {\n",
              "      resolve(e.target.files);\n",
              "    });\n",
              "  });\n",
              "\n",
              "  const cancel = document.createElement('button');\n",
              "  inputElement.parentElement.appendChild(cancel);\n",
              "  cancel.textContent = 'Cancel upload';\n",
              "  const cancelPromise = new Promise((resolve) => {\n",
              "    cancel.onclick = () => {\n",
              "      resolve(null);\n",
              "    };\n",
              "  });\n",
              "\n",
              "  // Wait for the user to pick the files.\n",
              "  const files = yield {\n",
              "    promise: Promise.race([pickedPromise, cancelPromise]),\n",
              "    response: {\n",
              "      action: 'starting',\n",
              "    }\n",
              "  };\n",
              "\n",
              "  cancel.remove();\n",
              "\n",
              "  // Disable the input element since further picks are not allowed.\n",
              "  inputElement.disabled = true;\n",
              "\n",
              "  if (!files) {\n",
              "    return {\n",
              "      response: {\n",
              "        action: 'complete',\n",
              "      }\n",
              "    };\n",
              "  }\n",
              "\n",
              "  for (const file of files) {\n",
              "    const li = document.createElement('li');\n",
              "    li.append(span(file.name, {fontWeight: 'bold'}));\n",
              "    li.append(span(\n",
              "        `(${file.type || 'n/a'}) - ${file.size} bytes, ` +\n",
              "        `last modified: ${\n",
              "            file.lastModifiedDate ? file.lastModifiedDate.toLocaleDateString() :\n",
              "                                    'n/a'} - `));\n",
              "    const percent = span('0% done');\n",
              "    li.appendChild(percent);\n",
              "\n",
              "    outputElement.appendChild(li);\n",
              "\n",
              "    const fileDataPromise = new Promise((resolve) => {\n",
              "      const reader = new FileReader();\n",
              "      reader.onload = (e) => {\n",
              "        resolve(e.target.result);\n",
              "      };\n",
              "      reader.readAsArrayBuffer(file);\n",
              "    });\n",
              "    // Wait for the data to be ready.\n",
              "    let fileData = yield {\n",
              "      promise: fileDataPromise,\n",
              "      response: {\n",
              "        action: 'continue',\n",
              "      }\n",
              "    };\n",
              "\n",
              "    // Use a chunked sending to avoid message size limits. See b/62115660.\n",
              "    let position = 0;\n",
              "    do {\n",
              "      const length = Math.min(fileData.byteLength - position, MAX_PAYLOAD_SIZE);\n",
              "      const chunk = new Uint8Array(fileData, position, length);\n",
              "      position += length;\n",
              "\n",
              "      const base64 = btoa(String.fromCharCode.apply(null, chunk));\n",
              "      yield {\n",
              "        response: {\n",
              "          action: 'append',\n",
              "          file: file.name,\n",
              "          data: base64,\n",
              "        },\n",
              "      };\n",
              "\n",
              "      let percentDone = fileData.byteLength === 0 ?\n",
              "          100 :\n",
              "          Math.round((position / fileData.byteLength) * 100);\n",
              "      percent.textContent = `${percentDone}% done`;\n",
              "\n",
              "    } while (position < fileData.byteLength);\n",
              "  }\n",
              "\n",
              "  // All done.\n",
              "  yield {\n",
              "    response: {\n",
              "      action: 'complete',\n",
              "    }\n",
              "  };\n",
              "}\n",
              "\n",
              "scope.google = scope.google || {};\n",
              "scope.google.colab = scope.google.colab || {};\n",
              "scope.google.colab._files = {\n",
              "  _uploadFiles,\n",
              "  _uploadFilesContinue,\n",
              "};\n",
              "})(self);\n",
              "</script> "
            ]
          },
          "metadata": {}
        },
        {
          "output_type": "stream",
          "name": "stdout",
          "text": [
            "Saving day.csv to day.csv\n",
            "Saving hour.csv to hour.csv\n"
          ]
        }
      ],
      "source": [
        "from google.colab import files\n",
        "uploaded = files.upload()"
      ]
    },
    {
      "cell_type": "markdown",
      "source": [
        "**Insight:**\n",
        "1. from google.colab import files; Mengimpor modul files dari Google Colab, yang memungkinkan interaksi dengan sistem file lokal.\n",
        "2. uploaded = files.upload(); Membuka dialog unggahan file di Colab, memungkinkan pengguna memilih file dari komputer lokal. Dan file yang diunggah akan disimpan dalam memori Colab sebagai objek dictionary dengan nama file sebagai key dan isi file sebagai value dalam format bytes."
      ],
      "metadata": {
        "id": "SVprsvOcMEMV"
      }
    },
    {
      "cell_type": "code",
      "source": [
        "day_df = pd.read_csv(\"day.csv\")\n",
        "hour_df = pd.read_csv(\"hour.csv\")"
      ],
      "metadata": {
        "id": "gzjgvuhZgWdX"
      },
      "execution_count": 94,
      "outputs": []
    },
    {
      "cell_type": "markdown",
      "source": [
        "**Insight:**\n",
        "- Membaca file day.csv dan file hour.csv kemudian menyimpannya dalam variabel day_df dan hour_df."
      ],
      "metadata": {
        "id": "MMi6xGaDkbCi"
      }
    },
    {
      "cell_type": "markdown",
      "metadata": {
        "id": "FHSiqaZp8DC1"
      },
      "source": [
        "### Assessing Data"
      ]
    },
    {
      "cell_type": "markdown",
      "source": [
        "Menilai tabel df_day"
      ],
      "metadata": {
        "id": "bxse0uY6w1wS"
      }
    },
    {
      "cell_type": "code",
      "source": [
        "# Melihat 5 data pertama\n",
        "print(\"\\n Data Harian (day.csv):\")\n",
        "day_df.head()"
      ],
      "metadata": {
        "colab": {
          "base_uri": "https://localhost:8080/",
          "height": 241
        },
        "id": "qtvsh0v3xNhn",
        "outputId": "5a49fa6b-b3ab-470a-e216-74dfc4afbf75"
      },
      "execution_count": 95,
      "outputs": [
        {
          "output_type": "stream",
          "name": "stdout",
          "text": [
            "\n",
            " Data Harian (day.csv):\n"
          ]
        },
        {
          "output_type": "execute_result",
          "data": {
            "text/plain": [
              "   instant      dteday  season  yr  mnth  holiday  weekday  workingday  \\\n",
              "0        1  2011-01-01       1   0     1        0        6           0   \n",
              "1        2  2011-01-02       1   0     1        0        0           0   \n",
              "2        3  2011-01-03       1   0     1        0        1           1   \n",
              "3        4  2011-01-04       1   0     1        0        2           1   \n",
              "4        5  2011-01-05       1   0     1        0        3           1   \n",
              "\n",
              "   weathersit      temp     atemp       hum  windspeed  casual  registered  \\\n",
              "0           2  0.344167  0.363625  0.805833   0.160446     331         654   \n",
              "1           2  0.363478  0.353739  0.696087   0.248539     131         670   \n",
              "2           1  0.196364  0.189405  0.437273   0.248309     120        1229   \n",
              "3           1  0.200000  0.212122  0.590435   0.160296     108        1454   \n",
              "4           1  0.226957  0.229270  0.436957   0.186900      82        1518   \n",
              "\n",
              "    cnt  \n",
              "0   985  \n",
              "1   801  \n",
              "2  1349  \n",
              "3  1562  \n",
              "4  1600  "
            ],
            "text/html": [
              "\n",
              "  <div id=\"df-da235e7e-cadd-4076-9001-a34b0a667a8d\" class=\"colab-df-container\">\n",
              "    <div>\n",
              "<style scoped>\n",
              "    .dataframe tbody tr th:only-of-type {\n",
              "        vertical-align: middle;\n",
              "    }\n",
              "\n",
              "    .dataframe tbody tr th {\n",
              "        vertical-align: top;\n",
              "    }\n",
              "\n",
              "    .dataframe thead th {\n",
              "        text-align: right;\n",
              "    }\n",
              "</style>\n",
              "<table border=\"1\" class=\"dataframe\">\n",
              "  <thead>\n",
              "    <tr style=\"text-align: right;\">\n",
              "      <th></th>\n",
              "      <th>instant</th>\n",
              "      <th>dteday</th>\n",
              "      <th>season</th>\n",
              "      <th>yr</th>\n",
              "      <th>mnth</th>\n",
              "      <th>holiday</th>\n",
              "      <th>weekday</th>\n",
              "      <th>workingday</th>\n",
              "      <th>weathersit</th>\n",
              "      <th>temp</th>\n",
              "      <th>atemp</th>\n",
              "      <th>hum</th>\n",
              "      <th>windspeed</th>\n",
              "      <th>casual</th>\n",
              "      <th>registered</th>\n",
              "      <th>cnt</th>\n",
              "    </tr>\n",
              "  </thead>\n",
              "  <tbody>\n",
              "    <tr>\n",
              "      <th>0</th>\n",
              "      <td>1</td>\n",
              "      <td>2011-01-01</td>\n",
              "      <td>1</td>\n",
              "      <td>0</td>\n",
              "      <td>1</td>\n",
              "      <td>0</td>\n",
              "      <td>6</td>\n",
              "      <td>0</td>\n",
              "      <td>2</td>\n",
              "      <td>0.344167</td>\n",
              "      <td>0.363625</td>\n",
              "      <td>0.805833</td>\n",
              "      <td>0.160446</td>\n",
              "      <td>331</td>\n",
              "      <td>654</td>\n",
              "      <td>985</td>\n",
              "    </tr>\n",
              "    <tr>\n",
              "      <th>1</th>\n",
              "      <td>2</td>\n",
              "      <td>2011-01-02</td>\n",
              "      <td>1</td>\n",
              "      <td>0</td>\n",
              "      <td>1</td>\n",
              "      <td>0</td>\n",
              "      <td>0</td>\n",
              "      <td>0</td>\n",
              "      <td>2</td>\n",
              "      <td>0.363478</td>\n",
              "      <td>0.353739</td>\n",
              "      <td>0.696087</td>\n",
              "      <td>0.248539</td>\n",
              "      <td>131</td>\n",
              "      <td>670</td>\n",
              "      <td>801</td>\n",
              "    </tr>\n",
              "    <tr>\n",
              "      <th>2</th>\n",
              "      <td>3</td>\n",
              "      <td>2011-01-03</td>\n",
              "      <td>1</td>\n",
              "      <td>0</td>\n",
              "      <td>1</td>\n",
              "      <td>0</td>\n",
              "      <td>1</td>\n",
              "      <td>1</td>\n",
              "      <td>1</td>\n",
              "      <td>0.196364</td>\n",
              "      <td>0.189405</td>\n",
              "      <td>0.437273</td>\n",
              "      <td>0.248309</td>\n",
              "      <td>120</td>\n",
              "      <td>1229</td>\n",
              "      <td>1349</td>\n",
              "    </tr>\n",
              "    <tr>\n",
              "      <th>3</th>\n",
              "      <td>4</td>\n",
              "      <td>2011-01-04</td>\n",
              "      <td>1</td>\n",
              "      <td>0</td>\n",
              "      <td>1</td>\n",
              "      <td>0</td>\n",
              "      <td>2</td>\n",
              "      <td>1</td>\n",
              "      <td>1</td>\n",
              "      <td>0.200000</td>\n",
              "      <td>0.212122</td>\n",
              "      <td>0.590435</td>\n",
              "      <td>0.160296</td>\n",
              "      <td>108</td>\n",
              "      <td>1454</td>\n",
              "      <td>1562</td>\n",
              "    </tr>\n",
              "    <tr>\n",
              "      <th>4</th>\n",
              "      <td>5</td>\n",
              "      <td>2011-01-05</td>\n",
              "      <td>1</td>\n",
              "      <td>0</td>\n",
              "      <td>1</td>\n",
              "      <td>0</td>\n",
              "      <td>3</td>\n",
              "      <td>1</td>\n",
              "      <td>1</td>\n",
              "      <td>0.226957</td>\n",
              "      <td>0.229270</td>\n",
              "      <td>0.436957</td>\n",
              "      <td>0.186900</td>\n",
              "      <td>82</td>\n",
              "      <td>1518</td>\n",
              "      <td>1600</td>\n",
              "    </tr>\n",
              "  </tbody>\n",
              "</table>\n",
              "</div>\n",
              "    <div class=\"colab-df-buttons\">\n",
              "\n",
              "  <div class=\"colab-df-container\">\n",
              "    <button class=\"colab-df-convert\" onclick=\"convertToInteractive('df-da235e7e-cadd-4076-9001-a34b0a667a8d')\"\n",
              "            title=\"Convert this dataframe to an interactive table.\"\n",
              "            style=\"display:none;\">\n",
              "\n",
              "  <svg xmlns=\"http://www.w3.org/2000/svg\" height=\"24px\" viewBox=\"0 -960 960 960\">\n",
              "    <path d=\"M120-120v-720h720v720H120Zm60-500h600v-160H180v160Zm220 220h160v-160H400v160Zm0 220h160v-160H400v160ZM180-400h160v-160H180v160Zm440 0h160v-160H620v160ZM180-180h160v-160H180v160Zm440 0h160v-160H620v160Z\"/>\n",
              "  </svg>\n",
              "    </button>\n",
              "\n",
              "  <style>\n",
              "    .colab-df-container {\n",
              "      display:flex;\n",
              "      gap: 12px;\n",
              "    }\n",
              "\n",
              "    .colab-df-convert {\n",
              "      background-color: #E8F0FE;\n",
              "      border: none;\n",
              "      border-radius: 50%;\n",
              "      cursor: pointer;\n",
              "      display: none;\n",
              "      fill: #1967D2;\n",
              "      height: 32px;\n",
              "      padding: 0 0 0 0;\n",
              "      width: 32px;\n",
              "    }\n",
              "\n",
              "    .colab-df-convert:hover {\n",
              "      background-color: #E2EBFA;\n",
              "      box-shadow: 0px 1px 2px rgba(60, 64, 67, 0.3), 0px 1px 3px 1px rgba(60, 64, 67, 0.15);\n",
              "      fill: #174EA6;\n",
              "    }\n",
              "\n",
              "    .colab-df-buttons div {\n",
              "      margin-bottom: 4px;\n",
              "    }\n",
              "\n",
              "    [theme=dark] .colab-df-convert {\n",
              "      background-color: #3B4455;\n",
              "      fill: #D2E3FC;\n",
              "    }\n",
              "\n",
              "    [theme=dark] .colab-df-convert:hover {\n",
              "      background-color: #434B5C;\n",
              "      box-shadow: 0px 1px 3px 1px rgba(0, 0, 0, 0.15);\n",
              "      filter: drop-shadow(0px 1px 2px rgba(0, 0, 0, 0.3));\n",
              "      fill: #FFFFFF;\n",
              "    }\n",
              "  </style>\n",
              "\n",
              "    <script>\n",
              "      const buttonEl =\n",
              "        document.querySelector('#df-da235e7e-cadd-4076-9001-a34b0a667a8d button.colab-df-convert');\n",
              "      buttonEl.style.display =\n",
              "        google.colab.kernel.accessAllowed ? 'block' : 'none';\n",
              "\n",
              "      async function convertToInteractive(key) {\n",
              "        const element = document.querySelector('#df-da235e7e-cadd-4076-9001-a34b0a667a8d');\n",
              "        const dataTable =\n",
              "          await google.colab.kernel.invokeFunction('convertToInteractive',\n",
              "                                                    [key], {});\n",
              "        if (!dataTable) return;\n",
              "\n",
              "        const docLinkHtml = 'Like what you see? Visit the ' +\n",
              "          '<a target=\"_blank\" href=https://colab.research.google.com/notebooks/data_table.ipynb>data table notebook</a>'\n",
              "          + ' to learn more about interactive tables.';\n",
              "        element.innerHTML = '';\n",
              "        dataTable['output_type'] = 'display_data';\n",
              "        await google.colab.output.renderOutput(dataTable, element);\n",
              "        const docLink = document.createElement('div');\n",
              "        docLink.innerHTML = docLinkHtml;\n",
              "        element.appendChild(docLink);\n",
              "      }\n",
              "    </script>\n",
              "  </div>\n",
              "\n",
              "\n",
              "<div id=\"df-6fabc292-2605-4305-bc79-c39836f56cd6\">\n",
              "  <button class=\"colab-df-quickchart\" onclick=\"quickchart('df-6fabc292-2605-4305-bc79-c39836f56cd6')\"\n",
              "            title=\"Suggest charts\"\n",
              "            style=\"display:none;\">\n",
              "\n",
              "<svg xmlns=\"http://www.w3.org/2000/svg\" height=\"24px\"viewBox=\"0 0 24 24\"\n",
              "     width=\"24px\">\n",
              "    <g>\n",
              "        <path d=\"M19 3H5c-1.1 0-2 .9-2 2v14c0 1.1.9 2 2 2h14c1.1 0 2-.9 2-2V5c0-1.1-.9-2-2-2zM9 17H7v-7h2v7zm4 0h-2V7h2v10zm4 0h-2v-4h2v4z\"/>\n",
              "    </g>\n",
              "</svg>\n",
              "  </button>\n",
              "\n",
              "<style>\n",
              "  .colab-df-quickchart {\n",
              "      --bg-color: #E8F0FE;\n",
              "      --fill-color: #1967D2;\n",
              "      --hover-bg-color: #E2EBFA;\n",
              "      --hover-fill-color: #174EA6;\n",
              "      --disabled-fill-color: #AAA;\n",
              "      --disabled-bg-color: #DDD;\n",
              "  }\n",
              "\n",
              "  [theme=dark] .colab-df-quickchart {\n",
              "      --bg-color: #3B4455;\n",
              "      --fill-color: #D2E3FC;\n",
              "      --hover-bg-color: #434B5C;\n",
              "      --hover-fill-color: #FFFFFF;\n",
              "      --disabled-bg-color: #3B4455;\n",
              "      --disabled-fill-color: #666;\n",
              "  }\n",
              "\n",
              "  .colab-df-quickchart {\n",
              "    background-color: var(--bg-color);\n",
              "    border: none;\n",
              "    border-radius: 50%;\n",
              "    cursor: pointer;\n",
              "    display: none;\n",
              "    fill: var(--fill-color);\n",
              "    height: 32px;\n",
              "    padding: 0;\n",
              "    width: 32px;\n",
              "  }\n",
              "\n",
              "  .colab-df-quickchart:hover {\n",
              "    background-color: var(--hover-bg-color);\n",
              "    box-shadow: 0 1px 2px rgba(60, 64, 67, 0.3), 0 1px 3px 1px rgba(60, 64, 67, 0.15);\n",
              "    fill: var(--button-hover-fill-color);\n",
              "  }\n",
              "\n",
              "  .colab-df-quickchart-complete:disabled,\n",
              "  .colab-df-quickchart-complete:disabled:hover {\n",
              "    background-color: var(--disabled-bg-color);\n",
              "    fill: var(--disabled-fill-color);\n",
              "    box-shadow: none;\n",
              "  }\n",
              "\n",
              "  .colab-df-spinner {\n",
              "    border: 2px solid var(--fill-color);\n",
              "    border-color: transparent;\n",
              "    border-bottom-color: var(--fill-color);\n",
              "    animation:\n",
              "      spin 1s steps(1) infinite;\n",
              "  }\n",
              "\n",
              "  @keyframes spin {\n",
              "    0% {\n",
              "      border-color: transparent;\n",
              "      border-bottom-color: var(--fill-color);\n",
              "      border-left-color: var(--fill-color);\n",
              "    }\n",
              "    20% {\n",
              "      border-color: transparent;\n",
              "      border-left-color: var(--fill-color);\n",
              "      border-top-color: var(--fill-color);\n",
              "    }\n",
              "    30% {\n",
              "      border-color: transparent;\n",
              "      border-left-color: var(--fill-color);\n",
              "      border-top-color: var(--fill-color);\n",
              "      border-right-color: var(--fill-color);\n",
              "    }\n",
              "    40% {\n",
              "      border-color: transparent;\n",
              "      border-right-color: var(--fill-color);\n",
              "      border-top-color: var(--fill-color);\n",
              "    }\n",
              "    60% {\n",
              "      border-color: transparent;\n",
              "      border-right-color: var(--fill-color);\n",
              "    }\n",
              "    80% {\n",
              "      border-color: transparent;\n",
              "      border-right-color: var(--fill-color);\n",
              "      border-bottom-color: var(--fill-color);\n",
              "    }\n",
              "    90% {\n",
              "      border-color: transparent;\n",
              "      border-bottom-color: var(--fill-color);\n",
              "    }\n",
              "  }\n",
              "</style>\n",
              "\n",
              "  <script>\n",
              "    async function quickchart(key) {\n",
              "      const quickchartButtonEl =\n",
              "        document.querySelector('#' + key + ' button');\n",
              "      quickchartButtonEl.disabled = true;  // To prevent multiple clicks.\n",
              "      quickchartButtonEl.classList.add('colab-df-spinner');\n",
              "      try {\n",
              "        const charts = await google.colab.kernel.invokeFunction(\n",
              "            'suggestCharts', [key], {});\n",
              "      } catch (error) {\n",
              "        console.error('Error during call to suggestCharts:', error);\n",
              "      }\n",
              "      quickchartButtonEl.classList.remove('colab-df-spinner');\n",
              "      quickchartButtonEl.classList.add('colab-df-quickchart-complete');\n",
              "    }\n",
              "    (() => {\n",
              "      let quickchartButtonEl =\n",
              "        document.querySelector('#df-6fabc292-2605-4305-bc79-c39836f56cd6 button');\n",
              "      quickchartButtonEl.style.display =\n",
              "        google.colab.kernel.accessAllowed ? 'block' : 'none';\n",
              "    })();\n",
              "  </script>\n",
              "</div>\n",
              "\n",
              "    </div>\n",
              "  </div>\n"
            ],
            "application/vnd.google.colaboratory.intrinsic+json": {
              "type": "dataframe",
              "variable_name": "day_df",
              "summary": "{\n  \"name\": \"day_df\",\n  \"rows\": 731,\n  \"fields\": [\n    {\n      \"column\": \"instant\",\n      \"properties\": {\n        \"dtype\": \"number\",\n        \"std\": 211,\n        \"min\": 1,\n        \"max\": 731,\n        \"num_unique_values\": 731,\n        \"samples\": [\n          704,\n          34,\n          301\n        ],\n        \"semantic_type\": \"\",\n        \"description\": \"\"\n      }\n    },\n    {\n      \"column\": \"dteday\",\n      \"properties\": {\n        \"dtype\": \"object\",\n        \"num_unique_values\": 731,\n        \"samples\": [\n          \"2012-12-04\",\n          \"2011-02-03\",\n          \"2011-10-28\"\n        ],\n        \"semantic_type\": \"\",\n        \"description\": \"\"\n      }\n    },\n    {\n      \"column\": \"season\",\n      \"properties\": {\n        \"dtype\": \"number\",\n        \"std\": 1,\n        \"min\": 1,\n        \"max\": 4,\n        \"num_unique_values\": 4,\n        \"samples\": [\n          2,\n          4,\n          1\n        ],\n        \"semantic_type\": \"\",\n        \"description\": \"\"\n      }\n    },\n    {\n      \"column\": \"yr\",\n      \"properties\": {\n        \"dtype\": \"number\",\n        \"std\": 0,\n        \"min\": 0,\n        \"max\": 1,\n        \"num_unique_values\": 2,\n        \"samples\": [\n          1,\n          0\n        ],\n        \"semantic_type\": \"\",\n        \"description\": \"\"\n      }\n    },\n    {\n      \"column\": \"mnth\",\n      \"properties\": {\n        \"dtype\": \"number\",\n        \"std\": 3,\n        \"min\": 1,\n        \"max\": 12,\n        \"num_unique_values\": 12,\n        \"samples\": [\n          11,\n          10\n        ],\n        \"semantic_type\": \"\",\n        \"description\": \"\"\n      }\n    },\n    {\n      \"column\": \"holiday\",\n      \"properties\": {\n        \"dtype\": \"number\",\n        \"std\": 0,\n        \"min\": 0,\n        \"max\": 1,\n        \"num_unique_values\": 2,\n        \"samples\": [\n          1,\n          0\n        ],\n        \"semantic_type\": \"\",\n        \"description\": \"\"\n      }\n    },\n    {\n      \"column\": \"weekday\",\n      \"properties\": {\n        \"dtype\": \"number\",\n        \"std\": 2,\n        \"min\": 0,\n        \"max\": 6,\n        \"num_unique_values\": 7,\n        \"samples\": [\n          6,\n          0\n        ],\n        \"semantic_type\": \"\",\n        \"description\": \"\"\n      }\n    },\n    {\n      \"column\": \"workingday\",\n      \"properties\": {\n        \"dtype\": \"number\",\n        \"std\": 0,\n        \"min\": 0,\n        \"max\": 1,\n        \"num_unique_values\": 2,\n        \"samples\": [\n          1,\n          0\n        ],\n        \"semantic_type\": \"\",\n        \"description\": \"\"\n      }\n    },\n    {\n      \"column\": \"weathersit\",\n      \"properties\": {\n        \"dtype\": \"number\",\n        \"std\": 0,\n        \"min\": 1,\n        \"max\": 3,\n        \"num_unique_values\": 3,\n        \"samples\": [\n          2,\n          1\n        ],\n        \"semantic_type\": \"\",\n        \"description\": \"\"\n      }\n    },\n    {\n      \"column\": \"temp\",\n      \"properties\": {\n        \"dtype\": \"number\",\n        \"std\": 0.18305099611148867,\n        \"min\": 0.0591304,\n        \"max\": 0.861667,\n        \"num_unique_values\": 499,\n        \"samples\": [\n          0.544167,\n          0.430435\n        ],\n        \"semantic_type\": \"\",\n        \"description\": \"\"\n      }\n    },\n    {\n      \"column\": \"atemp\",\n      \"properties\": {\n        \"dtype\": \"number\",\n        \"std\": 0.16296117838631127,\n        \"min\": 0.0790696,\n        \"max\": 0.840896,\n        \"num_unique_values\": 690,\n        \"samples\": [\n          0.463375,\n          0.599754\n        ],\n        \"semantic_type\": \"\",\n        \"description\": \"\"\n      }\n    },\n    {\n      \"column\": \"hum\",\n      \"properties\": {\n        \"dtype\": \"number\",\n        \"std\": 0.14242909513835394,\n        \"min\": 0.0,\n        \"max\": 0.9725,\n        \"num_unique_values\": 595,\n        \"samples\": [\n          0.707083,\n          0.718333\n        ],\n        \"semantic_type\": \"\",\n        \"description\": \"\"\n      }\n    },\n    {\n      \"column\": \"windspeed\",\n      \"properties\": {\n        \"dtype\": \"number\",\n        \"std\": 0.07749787068166943,\n        \"min\": 0.0223917,\n        \"max\": 0.507463,\n        \"num_unique_values\": 650,\n        \"samples\": [\n          0.100742,\n          0.139308\n        ],\n        \"semantic_type\": \"\",\n        \"description\": \"\"\n      }\n    },\n    {\n      \"column\": \"casual\",\n      \"properties\": {\n        \"dtype\": \"number\",\n        \"std\": 686,\n        \"min\": 2,\n        \"max\": 3410,\n        \"num_unique_values\": 606,\n        \"samples\": [\n          709,\n          449\n        ],\n        \"semantic_type\": \"\",\n        \"description\": \"\"\n      }\n    },\n    {\n      \"column\": \"registered\",\n      \"properties\": {\n        \"dtype\": \"number\",\n        \"std\": 1560,\n        \"min\": 20,\n        \"max\": 6946,\n        \"num_unique_values\": 679,\n        \"samples\": [\n          4531,\n          2553\n        ],\n        \"semantic_type\": \"\",\n        \"description\": \"\"\n      }\n    },\n    {\n      \"column\": \"cnt\",\n      \"properties\": {\n        \"dtype\": \"number\",\n        \"std\": 1937,\n        \"min\": 22,\n        \"max\": 8714,\n        \"num_unique_values\": 696,\n        \"samples\": [\n          5170,\n          1607\n        ],\n        \"semantic_type\": \"\",\n        \"description\": \"\"\n      }\n    }\n  ]\n}"
            }
          },
          "metadata": {},
          "execution_count": 95
        }
      ]
    },
    {
      "cell_type": "code",
      "source": [
        "# Melihat informasi umum dataset\n",
        "print(\"\\n Informasi Data Harian:\")\n",
        "day_df.info()"
      ],
      "metadata": {
        "colab": {
          "base_uri": "https://localhost:8080/"
        },
        "id": "6EIRAytGydb_",
        "outputId": "f52cf884-c7a9-4ba6-90ac-252565f60a7c"
      },
      "execution_count": 96,
      "outputs": [
        {
          "output_type": "stream",
          "name": "stdout",
          "text": [
            "\n",
            " Informasi Data Harian:\n",
            "<class 'pandas.core.frame.DataFrame'>\n",
            "RangeIndex: 731 entries, 0 to 730\n",
            "Data columns (total 16 columns):\n",
            " #   Column      Non-Null Count  Dtype  \n",
            "---  ------      --------------  -----  \n",
            " 0   instant     731 non-null    int64  \n",
            " 1   dteday      731 non-null    object \n",
            " 2   season      731 non-null    int64  \n",
            " 3   yr          731 non-null    int64  \n",
            " 4   mnth        731 non-null    int64  \n",
            " 5   holiday     731 non-null    int64  \n",
            " 6   weekday     731 non-null    int64  \n",
            " 7   workingday  731 non-null    int64  \n",
            " 8   weathersit  731 non-null    int64  \n",
            " 9   temp        731 non-null    float64\n",
            " 10  atemp       731 non-null    float64\n",
            " 11  hum         731 non-null    float64\n",
            " 12  windspeed   731 non-null    float64\n",
            " 13  casual      731 non-null    int64  \n",
            " 14  registered  731 non-null    int64  \n",
            " 15  cnt         731 non-null    int64  \n",
            "dtypes: float64(4), int64(11), object(1)\n",
            "memory usage: 91.5+ KB\n"
          ]
        }
      ]
    },
    {
      "cell_type": "code",
      "source": [
        "# Melihat statistik ringkasan\n",
        "print(\"\\n Statistik Data Harian:\")\n",
        "day_df.describe()"
      ],
      "metadata": {
        "colab": {
          "base_uri": "https://localhost:8080/",
          "height": 355
        },
        "id": "6675001Nyg9v",
        "outputId": "c7c2facc-7e44-4516-df2a-68440b605700"
      },
      "execution_count": 97,
      "outputs": [
        {
          "output_type": "stream",
          "name": "stdout",
          "text": [
            "\n",
            " Statistik Data Harian:\n"
          ]
        },
        {
          "output_type": "execute_result",
          "data": {
            "text/plain": [
              "          instant      season          yr        mnth     holiday     weekday  \\\n",
              "count  731.000000  731.000000  731.000000  731.000000  731.000000  731.000000   \n",
              "mean   366.000000    2.496580    0.500684    6.519836    0.028728    2.997264   \n",
              "std    211.165812    1.110807    0.500342    3.451913    0.167155    2.004787   \n",
              "min      1.000000    1.000000    0.000000    1.000000    0.000000    0.000000   \n",
              "25%    183.500000    2.000000    0.000000    4.000000    0.000000    1.000000   \n",
              "50%    366.000000    3.000000    1.000000    7.000000    0.000000    3.000000   \n",
              "75%    548.500000    3.000000    1.000000   10.000000    0.000000    5.000000   \n",
              "max    731.000000    4.000000    1.000000   12.000000    1.000000    6.000000   \n",
              "\n",
              "       workingday  weathersit        temp       atemp         hum   windspeed  \\\n",
              "count  731.000000  731.000000  731.000000  731.000000  731.000000  731.000000   \n",
              "mean     0.683995    1.395349    0.495385    0.474354    0.627894    0.190486   \n",
              "std      0.465233    0.544894    0.183051    0.162961    0.142429    0.077498   \n",
              "min      0.000000    1.000000    0.059130    0.079070    0.000000    0.022392   \n",
              "25%      0.000000    1.000000    0.337083    0.337842    0.520000    0.134950   \n",
              "50%      1.000000    1.000000    0.498333    0.486733    0.626667    0.180975   \n",
              "75%      1.000000    2.000000    0.655417    0.608602    0.730209    0.233214   \n",
              "max      1.000000    3.000000    0.861667    0.840896    0.972500    0.507463   \n",
              "\n",
              "            casual   registered          cnt  \n",
              "count   731.000000   731.000000   731.000000  \n",
              "mean    848.176471  3656.172367  4504.348837  \n",
              "std     686.622488  1560.256377  1937.211452  \n",
              "min       2.000000    20.000000    22.000000  \n",
              "25%     315.500000  2497.000000  3152.000000  \n",
              "50%     713.000000  3662.000000  4548.000000  \n",
              "75%    1096.000000  4776.500000  5956.000000  \n",
              "max    3410.000000  6946.000000  8714.000000  "
            ],
            "text/html": [
              "\n",
              "  <div id=\"df-b0882452-82b3-4240-aeb9-cff49d9ac59c\" class=\"colab-df-container\">\n",
              "    <div>\n",
              "<style scoped>\n",
              "    .dataframe tbody tr th:only-of-type {\n",
              "        vertical-align: middle;\n",
              "    }\n",
              "\n",
              "    .dataframe tbody tr th {\n",
              "        vertical-align: top;\n",
              "    }\n",
              "\n",
              "    .dataframe thead th {\n",
              "        text-align: right;\n",
              "    }\n",
              "</style>\n",
              "<table border=\"1\" class=\"dataframe\">\n",
              "  <thead>\n",
              "    <tr style=\"text-align: right;\">\n",
              "      <th></th>\n",
              "      <th>instant</th>\n",
              "      <th>season</th>\n",
              "      <th>yr</th>\n",
              "      <th>mnth</th>\n",
              "      <th>holiday</th>\n",
              "      <th>weekday</th>\n",
              "      <th>workingday</th>\n",
              "      <th>weathersit</th>\n",
              "      <th>temp</th>\n",
              "      <th>atemp</th>\n",
              "      <th>hum</th>\n",
              "      <th>windspeed</th>\n",
              "      <th>casual</th>\n",
              "      <th>registered</th>\n",
              "      <th>cnt</th>\n",
              "    </tr>\n",
              "  </thead>\n",
              "  <tbody>\n",
              "    <tr>\n",
              "      <th>count</th>\n",
              "      <td>731.000000</td>\n",
              "      <td>731.000000</td>\n",
              "      <td>731.000000</td>\n",
              "      <td>731.000000</td>\n",
              "      <td>731.000000</td>\n",
              "      <td>731.000000</td>\n",
              "      <td>731.000000</td>\n",
              "      <td>731.000000</td>\n",
              "      <td>731.000000</td>\n",
              "      <td>731.000000</td>\n",
              "      <td>731.000000</td>\n",
              "      <td>731.000000</td>\n",
              "      <td>731.000000</td>\n",
              "      <td>731.000000</td>\n",
              "      <td>731.000000</td>\n",
              "    </tr>\n",
              "    <tr>\n",
              "      <th>mean</th>\n",
              "      <td>366.000000</td>\n",
              "      <td>2.496580</td>\n",
              "      <td>0.500684</td>\n",
              "      <td>6.519836</td>\n",
              "      <td>0.028728</td>\n",
              "      <td>2.997264</td>\n",
              "      <td>0.683995</td>\n",
              "      <td>1.395349</td>\n",
              "      <td>0.495385</td>\n",
              "      <td>0.474354</td>\n",
              "      <td>0.627894</td>\n",
              "      <td>0.190486</td>\n",
              "      <td>848.176471</td>\n",
              "      <td>3656.172367</td>\n",
              "      <td>4504.348837</td>\n",
              "    </tr>\n",
              "    <tr>\n",
              "      <th>std</th>\n",
              "      <td>211.165812</td>\n",
              "      <td>1.110807</td>\n",
              "      <td>0.500342</td>\n",
              "      <td>3.451913</td>\n",
              "      <td>0.167155</td>\n",
              "      <td>2.004787</td>\n",
              "      <td>0.465233</td>\n",
              "      <td>0.544894</td>\n",
              "      <td>0.183051</td>\n",
              "      <td>0.162961</td>\n",
              "      <td>0.142429</td>\n",
              "      <td>0.077498</td>\n",
              "      <td>686.622488</td>\n",
              "      <td>1560.256377</td>\n",
              "      <td>1937.211452</td>\n",
              "    </tr>\n",
              "    <tr>\n",
              "      <th>min</th>\n",
              "      <td>1.000000</td>\n",
              "      <td>1.000000</td>\n",
              "      <td>0.000000</td>\n",
              "      <td>1.000000</td>\n",
              "      <td>0.000000</td>\n",
              "      <td>0.000000</td>\n",
              "      <td>0.000000</td>\n",
              "      <td>1.000000</td>\n",
              "      <td>0.059130</td>\n",
              "      <td>0.079070</td>\n",
              "      <td>0.000000</td>\n",
              "      <td>0.022392</td>\n",
              "      <td>2.000000</td>\n",
              "      <td>20.000000</td>\n",
              "      <td>22.000000</td>\n",
              "    </tr>\n",
              "    <tr>\n",
              "      <th>25%</th>\n",
              "      <td>183.500000</td>\n",
              "      <td>2.000000</td>\n",
              "      <td>0.000000</td>\n",
              "      <td>4.000000</td>\n",
              "      <td>0.000000</td>\n",
              "      <td>1.000000</td>\n",
              "      <td>0.000000</td>\n",
              "      <td>1.000000</td>\n",
              "      <td>0.337083</td>\n",
              "      <td>0.337842</td>\n",
              "      <td>0.520000</td>\n",
              "      <td>0.134950</td>\n",
              "      <td>315.500000</td>\n",
              "      <td>2497.000000</td>\n",
              "      <td>3152.000000</td>\n",
              "    </tr>\n",
              "    <tr>\n",
              "      <th>50%</th>\n",
              "      <td>366.000000</td>\n",
              "      <td>3.000000</td>\n",
              "      <td>1.000000</td>\n",
              "      <td>7.000000</td>\n",
              "      <td>0.000000</td>\n",
              "      <td>3.000000</td>\n",
              "      <td>1.000000</td>\n",
              "      <td>1.000000</td>\n",
              "      <td>0.498333</td>\n",
              "      <td>0.486733</td>\n",
              "      <td>0.626667</td>\n",
              "      <td>0.180975</td>\n",
              "      <td>713.000000</td>\n",
              "      <td>3662.000000</td>\n",
              "      <td>4548.000000</td>\n",
              "    </tr>\n",
              "    <tr>\n",
              "      <th>75%</th>\n",
              "      <td>548.500000</td>\n",
              "      <td>3.000000</td>\n",
              "      <td>1.000000</td>\n",
              "      <td>10.000000</td>\n",
              "      <td>0.000000</td>\n",
              "      <td>5.000000</td>\n",
              "      <td>1.000000</td>\n",
              "      <td>2.000000</td>\n",
              "      <td>0.655417</td>\n",
              "      <td>0.608602</td>\n",
              "      <td>0.730209</td>\n",
              "      <td>0.233214</td>\n",
              "      <td>1096.000000</td>\n",
              "      <td>4776.500000</td>\n",
              "      <td>5956.000000</td>\n",
              "    </tr>\n",
              "    <tr>\n",
              "      <th>max</th>\n",
              "      <td>731.000000</td>\n",
              "      <td>4.000000</td>\n",
              "      <td>1.000000</td>\n",
              "      <td>12.000000</td>\n",
              "      <td>1.000000</td>\n",
              "      <td>6.000000</td>\n",
              "      <td>1.000000</td>\n",
              "      <td>3.000000</td>\n",
              "      <td>0.861667</td>\n",
              "      <td>0.840896</td>\n",
              "      <td>0.972500</td>\n",
              "      <td>0.507463</td>\n",
              "      <td>3410.000000</td>\n",
              "      <td>6946.000000</td>\n",
              "      <td>8714.000000</td>\n",
              "    </tr>\n",
              "  </tbody>\n",
              "</table>\n",
              "</div>\n",
              "    <div class=\"colab-df-buttons\">\n",
              "\n",
              "  <div class=\"colab-df-container\">\n",
              "    <button class=\"colab-df-convert\" onclick=\"convertToInteractive('df-b0882452-82b3-4240-aeb9-cff49d9ac59c')\"\n",
              "            title=\"Convert this dataframe to an interactive table.\"\n",
              "            style=\"display:none;\">\n",
              "\n",
              "  <svg xmlns=\"http://www.w3.org/2000/svg\" height=\"24px\" viewBox=\"0 -960 960 960\">\n",
              "    <path d=\"M120-120v-720h720v720H120Zm60-500h600v-160H180v160Zm220 220h160v-160H400v160Zm0 220h160v-160H400v160ZM180-400h160v-160H180v160Zm440 0h160v-160H620v160ZM180-180h160v-160H180v160Zm440 0h160v-160H620v160Z\"/>\n",
              "  </svg>\n",
              "    </button>\n",
              "\n",
              "  <style>\n",
              "    .colab-df-container {\n",
              "      display:flex;\n",
              "      gap: 12px;\n",
              "    }\n",
              "\n",
              "    .colab-df-convert {\n",
              "      background-color: #E8F0FE;\n",
              "      border: none;\n",
              "      border-radius: 50%;\n",
              "      cursor: pointer;\n",
              "      display: none;\n",
              "      fill: #1967D2;\n",
              "      height: 32px;\n",
              "      padding: 0 0 0 0;\n",
              "      width: 32px;\n",
              "    }\n",
              "\n",
              "    .colab-df-convert:hover {\n",
              "      background-color: #E2EBFA;\n",
              "      box-shadow: 0px 1px 2px rgba(60, 64, 67, 0.3), 0px 1px 3px 1px rgba(60, 64, 67, 0.15);\n",
              "      fill: #174EA6;\n",
              "    }\n",
              "\n",
              "    .colab-df-buttons div {\n",
              "      margin-bottom: 4px;\n",
              "    }\n",
              "\n",
              "    [theme=dark] .colab-df-convert {\n",
              "      background-color: #3B4455;\n",
              "      fill: #D2E3FC;\n",
              "    }\n",
              "\n",
              "    [theme=dark] .colab-df-convert:hover {\n",
              "      background-color: #434B5C;\n",
              "      box-shadow: 0px 1px 3px 1px rgba(0, 0, 0, 0.15);\n",
              "      filter: drop-shadow(0px 1px 2px rgba(0, 0, 0, 0.3));\n",
              "      fill: #FFFFFF;\n",
              "    }\n",
              "  </style>\n",
              "\n",
              "    <script>\n",
              "      const buttonEl =\n",
              "        document.querySelector('#df-b0882452-82b3-4240-aeb9-cff49d9ac59c button.colab-df-convert');\n",
              "      buttonEl.style.display =\n",
              "        google.colab.kernel.accessAllowed ? 'block' : 'none';\n",
              "\n",
              "      async function convertToInteractive(key) {\n",
              "        const element = document.querySelector('#df-b0882452-82b3-4240-aeb9-cff49d9ac59c');\n",
              "        const dataTable =\n",
              "          await google.colab.kernel.invokeFunction('convertToInteractive',\n",
              "                                                    [key], {});\n",
              "        if (!dataTable) return;\n",
              "\n",
              "        const docLinkHtml = 'Like what you see? Visit the ' +\n",
              "          '<a target=\"_blank\" href=https://colab.research.google.com/notebooks/data_table.ipynb>data table notebook</a>'\n",
              "          + ' to learn more about interactive tables.';\n",
              "        element.innerHTML = '';\n",
              "        dataTable['output_type'] = 'display_data';\n",
              "        await google.colab.output.renderOutput(dataTable, element);\n",
              "        const docLink = document.createElement('div');\n",
              "        docLink.innerHTML = docLinkHtml;\n",
              "        element.appendChild(docLink);\n",
              "      }\n",
              "    </script>\n",
              "  </div>\n",
              "\n",
              "\n",
              "<div id=\"df-6997d133-e31e-4df1-bfc2-8e0b6db6cd54\">\n",
              "  <button class=\"colab-df-quickchart\" onclick=\"quickchart('df-6997d133-e31e-4df1-bfc2-8e0b6db6cd54')\"\n",
              "            title=\"Suggest charts\"\n",
              "            style=\"display:none;\">\n",
              "\n",
              "<svg xmlns=\"http://www.w3.org/2000/svg\" height=\"24px\"viewBox=\"0 0 24 24\"\n",
              "     width=\"24px\">\n",
              "    <g>\n",
              "        <path d=\"M19 3H5c-1.1 0-2 .9-2 2v14c0 1.1.9 2 2 2h14c1.1 0 2-.9 2-2V5c0-1.1-.9-2-2-2zM9 17H7v-7h2v7zm4 0h-2V7h2v10zm4 0h-2v-4h2v4z\"/>\n",
              "    </g>\n",
              "</svg>\n",
              "  </button>\n",
              "\n",
              "<style>\n",
              "  .colab-df-quickchart {\n",
              "      --bg-color: #E8F0FE;\n",
              "      --fill-color: #1967D2;\n",
              "      --hover-bg-color: #E2EBFA;\n",
              "      --hover-fill-color: #174EA6;\n",
              "      --disabled-fill-color: #AAA;\n",
              "      --disabled-bg-color: #DDD;\n",
              "  }\n",
              "\n",
              "  [theme=dark] .colab-df-quickchart {\n",
              "      --bg-color: #3B4455;\n",
              "      --fill-color: #D2E3FC;\n",
              "      --hover-bg-color: #434B5C;\n",
              "      --hover-fill-color: #FFFFFF;\n",
              "      --disabled-bg-color: #3B4455;\n",
              "      --disabled-fill-color: #666;\n",
              "  }\n",
              "\n",
              "  .colab-df-quickchart {\n",
              "    background-color: var(--bg-color);\n",
              "    border: none;\n",
              "    border-radius: 50%;\n",
              "    cursor: pointer;\n",
              "    display: none;\n",
              "    fill: var(--fill-color);\n",
              "    height: 32px;\n",
              "    padding: 0;\n",
              "    width: 32px;\n",
              "  }\n",
              "\n",
              "  .colab-df-quickchart:hover {\n",
              "    background-color: var(--hover-bg-color);\n",
              "    box-shadow: 0 1px 2px rgba(60, 64, 67, 0.3), 0 1px 3px 1px rgba(60, 64, 67, 0.15);\n",
              "    fill: var(--button-hover-fill-color);\n",
              "  }\n",
              "\n",
              "  .colab-df-quickchart-complete:disabled,\n",
              "  .colab-df-quickchart-complete:disabled:hover {\n",
              "    background-color: var(--disabled-bg-color);\n",
              "    fill: var(--disabled-fill-color);\n",
              "    box-shadow: none;\n",
              "  }\n",
              "\n",
              "  .colab-df-spinner {\n",
              "    border: 2px solid var(--fill-color);\n",
              "    border-color: transparent;\n",
              "    border-bottom-color: var(--fill-color);\n",
              "    animation:\n",
              "      spin 1s steps(1) infinite;\n",
              "  }\n",
              "\n",
              "  @keyframes spin {\n",
              "    0% {\n",
              "      border-color: transparent;\n",
              "      border-bottom-color: var(--fill-color);\n",
              "      border-left-color: var(--fill-color);\n",
              "    }\n",
              "    20% {\n",
              "      border-color: transparent;\n",
              "      border-left-color: var(--fill-color);\n",
              "      border-top-color: var(--fill-color);\n",
              "    }\n",
              "    30% {\n",
              "      border-color: transparent;\n",
              "      border-left-color: var(--fill-color);\n",
              "      border-top-color: var(--fill-color);\n",
              "      border-right-color: var(--fill-color);\n",
              "    }\n",
              "    40% {\n",
              "      border-color: transparent;\n",
              "      border-right-color: var(--fill-color);\n",
              "      border-top-color: var(--fill-color);\n",
              "    }\n",
              "    60% {\n",
              "      border-color: transparent;\n",
              "      border-right-color: var(--fill-color);\n",
              "    }\n",
              "    80% {\n",
              "      border-color: transparent;\n",
              "      border-right-color: var(--fill-color);\n",
              "      border-bottom-color: var(--fill-color);\n",
              "    }\n",
              "    90% {\n",
              "      border-color: transparent;\n",
              "      border-bottom-color: var(--fill-color);\n",
              "    }\n",
              "  }\n",
              "</style>\n",
              "\n",
              "  <script>\n",
              "    async function quickchart(key) {\n",
              "      const quickchartButtonEl =\n",
              "        document.querySelector('#' + key + ' button');\n",
              "      quickchartButtonEl.disabled = true;  // To prevent multiple clicks.\n",
              "      quickchartButtonEl.classList.add('colab-df-spinner');\n",
              "      try {\n",
              "        const charts = await google.colab.kernel.invokeFunction(\n",
              "            'suggestCharts', [key], {});\n",
              "      } catch (error) {\n",
              "        console.error('Error during call to suggestCharts:', error);\n",
              "      }\n",
              "      quickchartButtonEl.classList.remove('colab-df-spinner');\n",
              "      quickchartButtonEl.classList.add('colab-df-quickchart-complete');\n",
              "    }\n",
              "    (() => {\n",
              "      let quickchartButtonEl =\n",
              "        document.querySelector('#df-6997d133-e31e-4df1-bfc2-8e0b6db6cd54 button');\n",
              "      quickchartButtonEl.style.display =\n",
              "        google.colab.kernel.accessAllowed ? 'block' : 'none';\n",
              "    })();\n",
              "  </script>\n",
              "</div>\n",
              "\n",
              "    </div>\n",
              "  </div>\n"
            ],
            "application/vnd.google.colaboratory.intrinsic+json": {
              "type": "dataframe",
              "summary": "{\n  \"name\": \"day_df\",\n  \"rows\": 8,\n  \"fields\": [\n    {\n      \"column\": \"instant\",\n      \"properties\": {\n        \"dtype\": \"number\",\n        \"std\": 263.151210562102,\n        \"min\": 1.0,\n        \"max\": 731.0,\n        \"num_unique_values\": 6,\n        \"samples\": [\n          731.0,\n          366.0,\n          548.5\n        ],\n        \"semantic_type\": \"\",\n        \"description\": \"\"\n      }\n    },\n    {\n      \"column\": \"season\",\n      \"properties\": {\n        \"dtype\": \"number\",\n        \"std\": 257.61068803932375,\n        \"min\": 1.0,\n        \"max\": 731.0,\n        \"num_unique_values\": 7,\n        \"samples\": [\n          731.0,\n          2.496580027359781,\n          3.0\n        ],\n        \"semantic_type\": \"\",\n        \"description\": \"\"\n      }\n    },\n    {\n      \"column\": \"yr\",\n      \"properties\": {\n        \"dtype\": \"number\",\n        \"std\": 258.2457820210964,\n        \"min\": 0.0,\n        \"max\": 731.0,\n        \"num_unique_values\": 5,\n        \"samples\": [\n          0.5006839945280438,\n          1.0,\n          0.5003418803818294\n        ],\n        \"semantic_type\": \"\",\n        \"description\": \"\"\n      }\n    },\n    {\n      \"column\": \"mnth\",\n      \"properties\": {\n        \"dtype\": \"number\",\n        \"std\": 256.251208377565,\n        \"min\": 1.0,\n        \"max\": 731.0,\n        \"num_unique_values\": 8,\n        \"samples\": [\n          6.519835841313269,\n          7.0,\n          731.0\n        ],\n        \"semantic_type\": \"\",\n        \"description\": \"\"\n      }\n    },\n    {\n      \"column\": \"holiday\",\n      \"properties\": {\n        \"dtype\": \"number\",\n        \"std\": 258.38735524952386,\n        \"min\": 0.0,\n        \"max\": 731.0,\n        \"num_unique_values\": 5,\n        \"samples\": [\n          0.028727770177838577,\n          1.0,\n          0.16715474262247393\n        ],\n        \"semantic_type\": \"\",\n        \"description\": \"\"\n      }\n    },\n    {\n      \"column\": \"weekday\",\n      \"properties\": {\n        \"dtype\": \"number\",\n        \"std\": 257.4447215833011,\n        \"min\": 0.0,\n        \"max\": 731.0,\n        \"num_unique_values\": 8,\n        \"samples\": [\n          2.997264021887825,\n          3.0,\n          731.0\n        ],\n        \"semantic_type\": \"\",\n        \"description\": \"\"\n      }\n    },\n    {\n      \"column\": \"workingday\",\n      \"properties\": {\n        \"dtype\": \"number\",\n        \"std\": 258.23829965962693,\n        \"min\": 0.0,\n        \"max\": 731.0,\n        \"num_unique_values\": 5,\n        \"samples\": [\n          0.6839945280437757,\n          1.0,\n          0.46523338667770103\n        ],\n        \"semantic_type\": \"\",\n        \"description\": \"\"\n      }\n    },\n    {\n      \"column\": \"weathersit\",\n      \"properties\": {\n        \"dtype\": \"number\",\n        \"std\": 257.94661363848155,\n        \"min\": 0.5448943419593629,\n        \"max\": 731.0,\n        \"num_unique_values\": 6,\n        \"samples\": [\n          731.0,\n          1.3953488372093024,\n          3.0\n        ],\n        \"semantic_type\": \"\",\n        \"description\": \"\"\n      }\n    },\n    {\n      \"column\": \"temp\",\n      \"properties\": {\n        \"dtype\": \"number\",\n        \"std\": 258.2915817037473,\n        \"min\": 0.0591304,\n        \"max\": 731.0,\n        \"num_unique_values\": 8,\n        \"samples\": [\n          0.495384788508892,\n          0.498333,\n          731.0\n        ],\n        \"semantic_type\": \"\",\n        \"description\": \"\"\n      }\n    },\n    {\n      \"column\": \"atemp\",\n      \"properties\": {\n        \"dtype\": \"number\",\n        \"std\": 258.2966006263005,\n        \"min\": 0.0790696,\n        \"max\": 731.0,\n        \"num_unique_values\": 8,\n        \"samples\": [\n          0.47435398864569084,\n          0.486733,\n          731.0\n        ],\n        \"semantic_type\": \"\",\n        \"description\": \"\"\n      }\n    },\n    {\n      \"column\": \"hum\",\n      \"properties\": {\n        \"dtype\": \"number\",\n        \"std\": 258.26489554668353,\n        \"min\": 0.0,\n        \"max\": 731.0,\n        \"num_unique_values\": 8,\n        \"samples\": [\n          0.6278940629274967,\n          0.626667,\n          731.0\n        ],\n        \"semantic_type\": \"\",\n        \"description\": \"\"\n      }\n    },\n    {\n      \"column\": \"windspeed\",\n      \"properties\": {\n        \"dtype\": \"number\",\n        \"std\": 258.37953633824185,\n        \"min\": 0.0223917,\n        \"max\": 731.0,\n        \"num_unique_values\": 8,\n        \"samples\": [\n          0.190486211627907,\n          0.180975,\n          731.0\n        ],\n        \"semantic_type\": \"\",\n        \"description\": \"\"\n      }\n    },\n    {\n      \"column\": \"casual\",\n      \"properties\": {\n        \"dtype\": \"number\",\n        \"std\": 1038.746523887882,\n        \"min\": 2.0,\n        \"max\": 3410.0,\n        \"num_unique_values\": 8,\n        \"samples\": [\n          848.1764705882352,\n          713.0,\n          731.0\n        ],\n        \"semantic_type\": \"\",\n        \"description\": \"\"\n      }\n    },\n    {\n      \"column\": \"registered\",\n      \"properties\": {\n        \"dtype\": \"number\",\n        \"std\": 2266.131168472822,\n        \"min\": 20.0,\n        \"max\": 6946.0,\n        \"num_unique_values\": 8,\n        \"samples\": [\n          3656.172366621067,\n          3662.0,\n          731.0\n        ],\n        \"semantic_type\": \"\",\n        \"description\": \"\"\n      }\n    },\n    {\n      \"column\": \"cnt\",\n      \"properties\": {\n        \"dtype\": \"number\",\n        \"std\": 2862.2176347716063,\n        \"min\": 22.0,\n        \"max\": 8714.0,\n        \"num_unique_values\": 8,\n        \"samples\": [\n          4504.3488372093025,\n          4548.0,\n          731.0\n        ],\n        \"semantic_type\": \"\",\n        \"description\": \"\"\n      }\n    }\n  ]\n}"
            }
          },
          "metadata": {},
          "execution_count": 97
        }
      ]
    },
    {
      "cell_type": "code",
      "source": [
        "# Mengecek missing values\n",
        "print(\"\\n Missing Values Data Harian:\")\n",
        "print(day_df.isnull().sum())"
      ],
      "metadata": {
        "colab": {
          "base_uri": "https://localhost:8080/"
        },
        "id": "YO1q37B5z9Zi",
        "outputId": "de4249ea-f9d0-41ec-d6f6-a7340101ba80"
      },
      "execution_count": 98,
      "outputs": [
        {
          "output_type": "stream",
          "name": "stdout",
          "text": [
            "\n",
            " Missing Values Data Harian:\n",
            "instant       0\n",
            "dteday        0\n",
            "season        0\n",
            "yr            0\n",
            "mnth          0\n",
            "holiday       0\n",
            "weekday       0\n",
            "workingday    0\n",
            "weathersit    0\n",
            "temp          0\n",
            "atemp         0\n",
            "hum           0\n",
            "windspeed     0\n",
            "casual        0\n",
            "registered    0\n",
            "cnt           0\n",
            "dtype: int64\n"
          ]
        }
      ]
    },
    {
      "cell_type": "code",
      "source": [
        "# Mengecek duplikasi\n",
        "print(\"\\n Jumlah Duplikasi Data Harian:\", day_df.duplicated().sum())"
      ],
      "metadata": {
        "colab": {
          "base_uri": "https://localhost:8080/"
        },
        "id": "9r2ywzDi0QZL",
        "outputId": "44e90c4f-65f7-4dd7-cd3e-ccab13b98e56"
      },
      "execution_count": 99,
      "outputs": [
        {
          "output_type": "stream",
          "name": "stdout",
          "text": [
            "\n",
            " Jumlah Duplikasi Data Harian: 0\n"
          ]
        }
      ]
    },
    {
      "cell_type": "markdown",
      "source": [
        "**Insight dari Data Harian (day_df)**\n",
        "\n",
        "*1. Struktur Data*\n",
        "- Dataset ini memiliki **731 baris dan 16 kolom**.\n",
        "- Tidak ada **missing values**, sehingga data cukup bersih.\n",
        "- Tidak ditemukan **duplikasi data**, sehingga tidak perlu pembersihan lebih lanjut.\n",
        "\n",
        "*2. Statistik Deskriptif*\n",
        "- **Jumlah Penyewaan Sepeda (`cnt`)**\n",
        "  - Rata-rata jumlah penyewaan sepeda per hari adalah **4.504**.\n",
        "  - Jumlah minimum penyewaan hanya **22**, sedangkan jumlah maksimum mencapai **8.714**.\n",
        "  - Sebaran data cukup besar, terlihat dari standar deviasi sekitar **1.937**.\n",
        "\n",
        "- **Variabel Cuaca**\n",
        "  - Suhu (`temp`) berkisar antara **0.06 - 0.86** dalam skala normalisasi.\n",
        "  - Kelembaban (`hum`) memiliki nilai minimum **0.00**, yang bisa menjadi indikasi data outlier atau kesalahan pencatatan.\n",
        "  - Kecepatan angin (`windspeed`) maksimum tercatat **0.50**, yang masih dalam batas wajar.\n",
        "\n",
        "- **Hari Libur & Hari Kerja**\n",
        "  - Kolom `holiday` dan `workingday` menunjukkan hari kerja dan libur, yang bisa dianalisis lebih lanjut untuk melihat pengaruhnya terhadap jumlah penyewaan.\n",
        "\n",
        "*3. Interpretasi Awal*\n",
        "- Tidak ada missing values atau duplikasi, sehingga dataset dapat langsung digunakan untuk analisis.\n",
        "- Perlu analisis lebih lanjut apakah **jumlah penyewaan dipengaruhi oleh faktor cuaca**, hari kerja, atau musim (`season`).\n",
        "- Kemungkinan terdapat outlier pada kolom kelembaban (`hum`) yang memiliki nilai **0.00**.\n"
      ],
      "metadata": {
        "id": "7dtxhAPrkhPL"
      }
    },
    {
      "cell_type": "markdown",
      "source": [
        "Melihat Tabel df_hour\n"
      ],
      "metadata": {
        "id": "OPAlPOa10ZZo"
      }
    },
    {
      "cell_type": "code",
      "source": [
        "# Melihat 5 data pertama\n",
        "print(\"\\n Data Per Jam (hour.csv):\")\n",
        "hour_df.head()"
      ],
      "metadata": {
        "colab": {
          "base_uri": "https://localhost:8080/",
          "height": 241
        },
        "id": "PYZK3C_90fbP",
        "outputId": "5a3a26d2-ba05-4aec-f8b9-e20e81d2c582"
      },
      "execution_count": 100,
      "outputs": [
        {
          "output_type": "stream",
          "name": "stdout",
          "text": [
            "\n",
            " Data Per Jam (hour.csv):\n"
          ]
        },
        {
          "output_type": "execute_result",
          "data": {
            "text/plain": [
              "   instant    dteday  season  yr  mnth  hr  holiday  weekday  workingday  \\\n",
              "0        1  1/1/2011       1   0     1   0        0        6           0   \n",
              "1        2  1/1/2011       1   0     1   1        0        6           0   \n",
              "2        3  1/1/2011       1   0     1   2        0        6           0   \n",
              "3        4  1/1/2011       1   0     1   3        0        6           0   \n",
              "4        5  1/1/2011       1   0     1   4        0        6           0   \n",
              "\n",
              "   weathersit  temp   atemp   hum  windspeed  casual  registered  cnt  \n",
              "0           1  0.24  0.2879  0.81        0.0       3          13   16  \n",
              "1           1  0.22  0.2727  0.80        0.0       8          32   40  \n",
              "2           1  0.22  0.2727  0.80        0.0       5          27   32  \n",
              "3           1  0.24  0.2879  0.75        0.0       3          10   13  \n",
              "4           1  0.24  0.2879  0.75        0.0       0           1    1  "
            ],
            "text/html": [
              "\n",
              "  <div id=\"df-982a2434-1add-4bab-bf37-870ab2b49666\" class=\"colab-df-container\">\n",
              "    <div>\n",
              "<style scoped>\n",
              "    .dataframe tbody tr th:only-of-type {\n",
              "        vertical-align: middle;\n",
              "    }\n",
              "\n",
              "    .dataframe tbody tr th {\n",
              "        vertical-align: top;\n",
              "    }\n",
              "\n",
              "    .dataframe thead th {\n",
              "        text-align: right;\n",
              "    }\n",
              "</style>\n",
              "<table border=\"1\" class=\"dataframe\">\n",
              "  <thead>\n",
              "    <tr style=\"text-align: right;\">\n",
              "      <th></th>\n",
              "      <th>instant</th>\n",
              "      <th>dteday</th>\n",
              "      <th>season</th>\n",
              "      <th>yr</th>\n",
              "      <th>mnth</th>\n",
              "      <th>hr</th>\n",
              "      <th>holiday</th>\n",
              "      <th>weekday</th>\n",
              "      <th>workingday</th>\n",
              "      <th>weathersit</th>\n",
              "      <th>temp</th>\n",
              "      <th>atemp</th>\n",
              "      <th>hum</th>\n",
              "      <th>windspeed</th>\n",
              "      <th>casual</th>\n",
              "      <th>registered</th>\n",
              "      <th>cnt</th>\n",
              "    </tr>\n",
              "  </thead>\n",
              "  <tbody>\n",
              "    <tr>\n",
              "      <th>0</th>\n",
              "      <td>1</td>\n",
              "      <td>1/1/2011</td>\n",
              "      <td>1</td>\n",
              "      <td>0</td>\n",
              "      <td>1</td>\n",
              "      <td>0</td>\n",
              "      <td>0</td>\n",
              "      <td>6</td>\n",
              "      <td>0</td>\n",
              "      <td>1</td>\n",
              "      <td>0.24</td>\n",
              "      <td>0.2879</td>\n",
              "      <td>0.81</td>\n",
              "      <td>0.0</td>\n",
              "      <td>3</td>\n",
              "      <td>13</td>\n",
              "      <td>16</td>\n",
              "    </tr>\n",
              "    <tr>\n",
              "      <th>1</th>\n",
              "      <td>2</td>\n",
              "      <td>1/1/2011</td>\n",
              "      <td>1</td>\n",
              "      <td>0</td>\n",
              "      <td>1</td>\n",
              "      <td>1</td>\n",
              "      <td>0</td>\n",
              "      <td>6</td>\n",
              "      <td>0</td>\n",
              "      <td>1</td>\n",
              "      <td>0.22</td>\n",
              "      <td>0.2727</td>\n",
              "      <td>0.80</td>\n",
              "      <td>0.0</td>\n",
              "      <td>8</td>\n",
              "      <td>32</td>\n",
              "      <td>40</td>\n",
              "    </tr>\n",
              "    <tr>\n",
              "      <th>2</th>\n",
              "      <td>3</td>\n",
              "      <td>1/1/2011</td>\n",
              "      <td>1</td>\n",
              "      <td>0</td>\n",
              "      <td>1</td>\n",
              "      <td>2</td>\n",
              "      <td>0</td>\n",
              "      <td>6</td>\n",
              "      <td>0</td>\n",
              "      <td>1</td>\n",
              "      <td>0.22</td>\n",
              "      <td>0.2727</td>\n",
              "      <td>0.80</td>\n",
              "      <td>0.0</td>\n",
              "      <td>5</td>\n",
              "      <td>27</td>\n",
              "      <td>32</td>\n",
              "    </tr>\n",
              "    <tr>\n",
              "      <th>3</th>\n",
              "      <td>4</td>\n",
              "      <td>1/1/2011</td>\n",
              "      <td>1</td>\n",
              "      <td>0</td>\n",
              "      <td>1</td>\n",
              "      <td>3</td>\n",
              "      <td>0</td>\n",
              "      <td>6</td>\n",
              "      <td>0</td>\n",
              "      <td>1</td>\n",
              "      <td>0.24</td>\n",
              "      <td>0.2879</td>\n",
              "      <td>0.75</td>\n",
              "      <td>0.0</td>\n",
              "      <td>3</td>\n",
              "      <td>10</td>\n",
              "      <td>13</td>\n",
              "    </tr>\n",
              "    <tr>\n",
              "      <th>4</th>\n",
              "      <td>5</td>\n",
              "      <td>1/1/2011</td>\n",
              "      <td>1</td>\n",
              "      <td>0</td>\n",
              "      <td>1</td>\n",
              "      <td>4</td>\n",
              "      <td>0</td>\n",
              "      <td>6</td>\n",
              "      <td>0</td>\n",
              "      <td>1</td>\n",
              "      <td>0.24</td>\n",
              "      <td>0.2879</td>\n",
              "      <td>0.75</td>\n",
              "      <td>0.0</td>\n",
              "      <td>0</td>\n",
              "      <td>1</td>\n",
              "      <td>1</td>\n",
              "    </tr>\n",
              "  </tbody>\n",
              "</table>\n",
              "</div>\n",
              "    <div class=\"colab-df-buttons\">\n",
              "\n",
              "  <div class=\"colab-df-container\">\n",
              "    <button class=\"colab-df-convert\" onclick=\"convertToInteractive('df-982a2434-1add-4bab-bf37-870ab2b49666')\"\n",
              "            title=\"Convert this dataframe to an interactive table.\"\n",
              "            style=\"display:none;\">\n",
              "\n",
              "  <svg xmlns=\"http://www.w3.org/2000/svg\" height=\"24px\" viewBox=\"0 -960 960 960\">\n",
              "    <path d=\"M120-120v-720h720v720H120Zm60-500h600v-160H180v160Zm220 220h160v-160H400v160Zm0 220h160v-160H400v160ZM180-400h160v-160H180v160Zm440 0h160v-160H620v160ZM180-180h160v-160H180v160Zm440 0h160v-160H620v160Z\"/>\n",
              "  </svg>\n",
              "    </button>\n",
              "\n",
              "  <style>\n",
              "    .colab-df-container {\n",
              "      display:flex;\n",
              "      gap: 12px;\n",
              "    }\n",
              "\n",
              "    .colab-df-convert {\n",
              "      background-color: #E8F0FE;\n",
              "      border: none;\n",
              "      border-radius: 50%;\n",
              "      cursor: pointer;\n",
              "      display: none;\n",
              "      fill: #1967D2;\n",
              "      height: 32px;\n",
              "      padding: 0 0 0 0;\n",
              "      width: 32px;\n",
              "    }\n",
              "\n",
              "    .colab-df-convert:hover {\n",
              "      background-color: #E2EBFA;\n",
              "      box-shadow: 0px 1px 2px rgba(60, 64, 67, 0.3), 0px 1px 3px 1px rgba(60, 64, 67, 0.15);\n",
              "      fill: #174EA6;\n",
              "    }\n",
              "\n",
              "    .colab-df-buttons div {\n",
              "      margin-bottom: 4px;\n",
              "    }\n",
              "\n",
              "    [theme=dark] .colab-df-convert {\n",
              "      background-color: #3B4455;\n",
              "      fill: #D2E3FC;\n",
              "    }\n",
              "\n",
              "    [theme=dark] .colab-df-convert:hover {\n",
              "      background-color: #434B5C;\n",
              "      box-shadow: 0px 1px 3px 1px rgba(0, 0, 0, 0.15);\n",
              "      filter: drop-shadow(0px 1px 2px rgba(0, 0, 0, 0.3));\n",
              "      fill: #FFFFFF;\n",
              "    }\n",
              "  </style>\n",
              "\n",
              "    <script>\n",
              "      const buttonEl =\n",
              "        document.querySelector('#df-982a2434-1add-4bab-bf37-870ab2b49666 button.colab-df-convert');\n",
              "      buttonEl.style.display =\n",
              "        google.colab.kernel.accessAllowed ? 'block' : 'none';\n",
              "\n",
              "      async function convertToInteractive(key) {\n",
              "        const element = document.querySelector('#df-982a2434-1add-4bab-bf37-870ab2b49666');\n",
              "        const dataTable =\n",
              "          await google.colab.kernel.invokeFunction('convertToInteractive',\n",
              "                                                    [key], {});\n",
              "        if (!dataTable) return;\n",
              "\n",
              "        const docLinkHtml = 'Like what you see? Visit the ' +\n",
              "          '<a target=\"_blank\" href=https://colab.research.google.com/notebooks/data_table.ipynb>data table notebook</a>'\n",
              "          + ' to learn more about interactive tables.';\n",
              "        element.innerHTML = '';\n",
              "        dataTable['output_type'] = 'display_data';\n",
              "        await google.colab.output.renderOutput(dataTable, element);\n",
              "        const docLink = document.createElement('div');\n",
              "        docLink.innerHTML = docLinkHtml;\n",
              "        element.appendChild(docLink);\n",
              "      }\n",
              "    </script>\n",
              "  </div>\n",
              "\n",
              "\n",
              "<div id=\"df-cf76c33b-86a5-40f8-851c-55a0cefff8f0\">\n",
              "  <button class=\"colab-df-quickchart\" onclick=\"quickchart('df-cf76c33b-86a5-40f8-851c-55a0cefff8f0')\"\n",
              "            title=\"Suggest charts\"\n",
              "            style=\"display:none;\">\n",
              "\n",
              "<svg xmlns=\"http://www.w3.org/2000/svg\" height=\"24px\"viewBox=\"0 0 24 24\"\n",
              "     width=\"24px\">\n",
              "    <g>\n",
              "        <path d=\"M19 3H5c-1.1 0-2 .9-2 2v14c0 1.1.9 2 2 2h14c1.1 0 2-.9 2-2V5c0-1.1-.9-2-2-2zM9 17H7v-7h2v7zm4 0h-2V7h2v10zm4 0h-2v-4h2v4z\"/>\n",
              "    </g>\n",
              "</svg>\n",
              "  </button>\n",
              "\n",
              "<style>\n",
              "  .colab-df-quickchart {\n",
              "      --bg-color: #E8F0FE;\n",
              "      --fill-color: #1967D2;\n",
              "      --hover-bg-color: #E2EBFA;\n",
              "      --hover-fill-color: #174EA6;\n",
              "      --disabled-fill-color: #AAA;\n",
              "      --disabled-bg-color: #DDD;\n",
              "  }\n",
              "\n",
              "  [theme=dark] .colab-df-quickchart {\n",
              "      --bg-color: #3B4455;\n",
              "      --fill-color: #D2E3FC;\n",
              "      --hover-bg-color: #434B5C;\n",
              "      --hover-fill-color: #FFFFFF;\n",
              "      --disabled-bg-color: #3B4455;\n",
              "      --disabled-fill-color: #666;\n",
              "  }\n",
              "\n",
              "  .colab-df-quickchart {\n",
              "    background-color: var(--bg-color);\n",
              "    border: none;\n",
              "    border-radius: 50%;\n",
              "    cursor: pointer;\n",
              "    display: none;\n",
              "    fill: var(--fill-color);\n",
              "    height: 32px;\n",
              "    padding: 0;\n",
              "    width: 32px;\n",
              "  }\n",
              "\n",
              "  .colab-df-quickchart:hover {\n",
              "    background-color: var(--hover-bg-color);\n",
              "    box-shadow: 0 1px 2px rgba(60, 64, 67, 0.3), 0 1px 3px 1px rgba(60, 64, 67, 0.15);\n",
              "    fill: var(--button-hover-fill-color);\n",
              "  }\n",
              "\n",
              "  .colab-df-quickchart-complete:disabled,\n",
              "  .colab-df-quickchart-complete:disabled:hover {\n",
              "    background-color: var(--disabled-bg-color);\n",
              "    fill: var(--disabled-fill-color);\n",
              "    box-shadow: none;\n",
              "  }\n",
              "\n",
              "  .colab-df-spinner {\n",
              "    border: 2px solid var(--fill-color);\n",
              "    border-color: transparent;\n",
              "    border-bottom-color: var(--fill-color);\n",
              "    animation:\n",
              "      spin 1s steps(1) infinite;\n",
              "  }\n",
              "\n",
              "  @keyframes spin {\n",
              "    0% {\n",
              "      border-color: transparent;\n",
              "      border-bottom-color: var(--fill-color);\n",
              "      border-left-color: var(--fill-color);\n",
              "    }\n",
              "    20% {\n",
              "      border-color: transparent;\n",
              "      border-left-color: var(--fill-color);\n",
              "      border-top-color: var(--fill-color);\n",
              "    }\n",
              "    30% {\n",
              "      border-color: transparent;\n",
              "      border-left-color: var(--fill-color);\n",
              "      border-top-color: var(--fill-color);\n",
              "      border-right-color: var(--fill-color);\n",
              "    }\n",
              "    40% {\n",
              "      border-color: transparent;\n",
              "      border-right-color: var(--fill-color);\n",
              "      border-top-color: var(--fill-color);\n",
              "    }\n",
              "    60% {\n",
              "      border-color: transparent;\n",
              "      border-right-color: var(--fill-color);\n",
              "    }\n",
              "    80% {\n",
              "      border-color: transparent;\n",
              "      border-right-color: var(--fill-color);\n",
              "      border-bottom-color: var(--fill-color);\n",
              "    }\n",
              "    90% {\n",
              "      border-color: transparent;\n",
              "      border-bottom-color: var(--fill-color);\n",
              "    }\n",
              "  }\n",
              "</style>\n",
              "\n",
              "  <script>\n",
              "    async function quickchart(key) {\n",
              "      const quickchartButtonEl =\n",
              "        document.querySelector('#' + key + ' button');\n",
              "      quickchartButtonEl.disabled = true;  // To prevent multiple clicks.\n",
              "      quickchartButtonEl.classList.add('colab-df-spinner');\n",
              "      try {\n",
              "        const charts = await google.colab.kernel.invokeFunction(\n",
              "            'suggestCharts', [key], {});\n",
              "      } catch (error) {\n",
              "        console.error('Error during call to suggestCharts:', error);\n",
              "      }\n",
              "      quickchartButtonEl.classList.remove('colab-df-spinner');\n",
              "      quickchartButtonEl.classList.add('colab-df-quickchart-complete');\n",
              "    }\n",
              "    (() => {\n",
              "      let quickchartButtonEl =\n",
              "        document.querySelector('#df-cf76c33b-86a5-40f8-851c-55a0cefff8f0 button');\n",
              "      quickchartButtonEl.style.display =\n",
              "        google.colab.kernel.accessAllowed ? 'block' : 'none';\n",
              "    })();\n",
              "  </script>\n",
              "</div>\n",
              "\n",
              "    </div>\n",
              "  </div>\n"
            ],
            "application/vnd.google.colaboratory.intrinsic+json": {
              "type": "dataframe",
              "variable_name": "hour_df",
              "summary": "{\n  \"name\": \"hour_df\",\n  \"rows\": 17379,\n  \"fields\": [\n    {\n      \"column\": \"instant\",\n      \"properties\": {\n        \"dtype\": \"number\",\n        \"std\": 5017,\n        \"min\": 1,\n        \"max\": 17379,\n        \"num_unique_values\": 17379,\n        \"samples\": [\n          12831,\n          8689,\n          7092\n        ],\n        \"semantic_type\": \"\",\n        \"description\": \"\"\n      }\n    },\n    {\n      \"column\": \"dteday\",\n      \"properties\": {\n        \"dtype\": \"object\",\n        \"num_unique_values\": 731,\n        \"samples\": [\n          \"12/4/2012\",\n          \"2/3/2011\",\n          \"10/28/2011\"\n        ],\n        \"semantic_type\": \"\",\n        \"description\": \"\"\n      }\n    },\n    {\n      \"column\": \"season\",\n      \"properties\": {\n        \"dtype\": \"number\",\n        \"std\": 1,\n        \"min\": 1,\n        \"max\": 4,\n        \"num_unique_values\": 4,\n        \"samples\": [\n          2,\n          4,\n          1\n        ],\n        \"semantic_type\": \"\",\n        \"description\": \"\"\n      }\n    },\n    {\n      \"column\": \"yr\",\n      \"properties\": {\n        \"dtype\": \"number\",\n        \"std\": 0,\n        \"min\": 0,\n        \"max\": 1,\n        \"num_unique_values\": 2,\n        \"samples\": [\n          1,\n          0\n        ],\n        \"semantic_type\": \"\",\n        \"description\": \"\"\n      }\n    },\n    {\n      \"column\": \"mnth\",\n      \"properties\": {\n        \"dtype\": \"number\",\n        \"std\": 3,\n        \"min\": 1,\n        \"max\": 12,\n        \"num_unique_values\": 12,\n        \"samples\": [\n          11,\n          10\n        ],\n        \"semantic_type\": \"\",\n        \"description\": \"\"\n      }\n    },\n    {\n      \"column\": \"hr\",\n      \"properties\": {\n        \"dtype\": \"number\",\n        \"std\": 6,\n        \"min\": 0,\n        \"max\": 23,\n        \"num_unique_values\": 24,\n        \"samples\": [\n          8,\n          16\n        ],\n        \"semantic_type\": \"\",\n        \"description\": \"\"\n      }\n    },\n    {\n      \"column\": \"holiday\",\n      \"properties\": {\n        \"dtype\": \"number\",\n        \"std\": 0,\n        \"min\": 0,\n        \"max\": 1,\n        \"num_unique_values\": 2,\n        \"samples\": [\n          1,\n          0\n        ],\n        \"semantic_type\": \"\",\n        \"description\": \"\"\n      }\n    },\n    {\n      \"column\": \"weekday\",\n      \"properties\": {\n        \"dtype\": \"number\",\n        \"std\": 2,\n        \"min\": 0,\n        \"max\": 6,\n        \"num_unique_values\": 7,\n        \"samples\": [\n          6,\n          0\n        ],\n        \"semantic_type\": \"\",\n        \"description\": \"\"\n      }\n    },\n    {\n      \"column\": \"workingday\",\n      \"properties\": {\n        \"dtype\": \"number\",\n        \"std\": 0,\n        \"min\": 0,\n        \"max\": 1,\n        \"num_unique_values\": 2,\n        \"samples\": [\n          1,\n          0\n        ],\n        \"semantic_type\": \"\",\n        \"description\": \"\"\n      }\n    },\n    {\n      \"column\": \"weathersit\",\n      \"properties\": {\n        \"dtype\": \"number\",\n        \"std\": 0,\n        \"min\": 1,\n        \"max\": 4,\n        \"num_unique_values\": 4,\n        \"samples\": [\n          2,\n          4\n        ],\n        \"semantic_type\": \"\",\n        \"description\": \"\"\n      }\n    },\n    {\n      \"column\": \"temp\",\n      \"properties\": {\n        \"dtype\": \"number\",\n        \"std\": 0.19255612124972407,\n        \"min\": 0.02,\n        \"max\": 1.0,\n        \"num_unique_values\": 50,\n        \"samples\": [\n          0.16,\n          0.82\n        ],\n        \"semantic_type\": \"\",\n        \"description\": \"\"\n      }\n    },\n    {\n      \"column\": \"atemp\",\n      \"properties\": {\n        \"dtype\": \"number\",\n        \"std\": 0.17185021563536587,\n        \"min\": 0.0,\n        \"max\": 1.0,\n        \"num_unique_values\": 65,\n        \"samples\": [\n          0.7879,\n          0.9242\n        ],\n        \"semantic_type\": \"\",\n        \"description\": \"\"\n      }\n    },\n    {\n      \"column\": \"hum\",\n      \"properties\": {\n        \"dtype\": \"number\",\n        \"std\": 0.1929298340629125,\n        \"min\": 0.0,\n        \"max\": 1.0,\n        \"num_unique_values\": 89,\n        \"samples\": [\n          0.29,\n          0.61\n        ],\n        \"semantic_type\": \"\",\n        \"description\": \"\"\n      }\n    },\n    {\n      \"column\": \"windspeed\",\n      \"properties\": {\n        \"dtype\": \"number\",\n        \"std\": 0.12234022857279413,\n        \"min\": 0.0,\n        \"max\": 0.8507,\n        \"num_unique_values\": 30,\n        \"samples\": [\n          0.8507,\n          0.4925\n        ],\n        \"semantic_type\": \"\",\n        \"description\": \"\"\n      }\n    },\n    {\n      \"column\": \"casual\",\n      \"properties\": {\n        \"dtype\": \"number\",\n        \"std\": 49,\n        \"min\": 0,\n        \"max\": 367,\n        \"num_unique_values\": 322,\n        \"samples\": [\n          201,\n          171\n        ],\n        \"semantic_type\": \"\",\n        \"description\": \"\"\n      }\n    },\n    {\n      \"column\": \"registered\",\n      \"properties\": {\n        \"dtype\": \"number\",\n        \"std\": 151,\n        \"min\": 0,\n        \"max\": 886,\n        \"num_unique_values\": 776,\n        \"samples\": [\n          342,\n          744\n        ],\n        \"semantic_type\": \"\",\n        \"description\": \"\"\n      }\n    },\n    {\n      \"column\": \"cnt\",\n      \"properties\": {\n        \"dtype\": \"number\",\n        \"std\": 181,\n        \"min\": 1,\n        \"max\": 977,\n        \"num_unique_values\": 869,\n        \"samples\": [\n          594,\n          46\n        ],\n        \"semantic_type\": \"\",\n        \"description\": \"\"\n      }\n    }\n  ]\n}"
            }
          },
          "metadata": {},
          "execution_count": 100
        }
      ]
    },
    {
      "cell_type": "code",
      "source": [
        "# Melihat informasi umum dataset\n",
        "print(\"\\n Informasi Data Per Jam:\")\n",
        "hour_df.info()"
      ],
      "metadata": {
        "colab": {
          "base_uri": "https://localhost:8080/"
        },
        "id": "BV8iuGYY0laP",
        "outputId": "bfce9346-4464-4312-d33a-ba588f30eedd"
      },
      "execution_count": 101,
      "outputs": [
        {
          "output_type": "stream",
          "name": "stdout",
          "text": [
            "\n",
            " Informasi Data Per Jam:\n",
            "<class 'pandas.core.frame.DataFrame'>\n",
            "RangeIndex: 17379 entries, 0 to 17378\n",
            "Data columns (total 17 columns):\n",
            " #   Column      Non-Null Count  Dtype  \n",
            "---  ------      --------------  -----  \n",
            " 0   instant     17379 non-null  int64  \n",
            " 1   dteday      17379 non-null  object \n",
            " 2   season      17379 non-null  int64  \n",
            " 3   yr          17379 non-null  int64  \n",
            " 4   mnth        17379 non-null  int64  \n",
            " 5   hr          17379 non-null  int64  \n",
            " 6   holiday     17379 non-null  int64  \n",
            " 7   weekday     17379 non-null  int64  \n",
            " 8   workingday  17379 non-null  int64  \n",
            " 9   weathersit  17379 non-null  int64  \n",
            " 10  temp        17379 non-null  float64\n",
            " 11  atemp       17379 non-null  float64\n",
            " 12  hum         17379 non-null  float64\n",
            " 13  windspeed   17379 non-null  float64\n",
            " 14  casual      17379 non-null  int64  \n",
            " 15  registered  17379 non-null  int64  \n",
            " 16  cnt         17379 non-null  int64  \n",
            "dtypes: float64(4), int64(12), object(1)\n",
            "memory usage: 2.3+ MB\n"
          ]
        }
      ]
    },
    {
      "cell_type": "code",
      "source": [
        "# Melihat statistik ringkasan\n",
        "print(\"\\n Statistik Data Per Jam:\")\n",
        "hour_df.describe()"
      ],
      "metadata": {
        "colab": {
          "base_uri": "https://localhost:8080/",
          "height": 355
        },
        "id": "2IT5MBjZ0o55",
        "outputId": "21e3262a-b10a-4baa-f64a-10946dcee104"
      },
      "execution_count": 102,
      "outputs": [
        {
          "output_type": "stream",
          "name": "stdout",
          "text": [
            "\n",
            " Statistik Data Per Jam:\n"
          ]
        },
        {
          "output_type": "execute_result",
          "data": {
            "text/plain": [
              "          instant        season            yr          mnth            hr  \\\n",
              "count  17379.0000  17379.000000  17379.000000  17379.000000  17379.000000   \n",
              "mean    8690.0000      2.501640      0.502561      6.537775     11.546752   \n",
              "std     5017.0295      1.106918      0.500008      3.438776      6.914405   \n",
              "min        1.0000      1.000000      0.000000      1.000000      0.000000   \n",
              "25%     4345.5000      2.000000      0.000000      4.000000      6.000000   \n",
              "50%     8690.0000      3.000000      1.000000      7.000000     12.000000   \n",
              "75%    13034.5000      3.000000      1.000000     10.000000     18.000000   \n",
              "max    17379.0000      4.000000      1.000000     12.000000     23.000000   \n",
              "\n",
              "            holiday       weekday    workingday    weathersit          temp  \\\n",
              "count  17379.000000  17379.000000  17379.000000  17379.000000  17379.000000   \n",
              "mean       0.028770      3.003683      0.682721      1.425283      0.496987   \n",
              "std        0.167165      2.005771      0.465431      0.639357      0.192556   \n",
              "min        0.000000      0.000000      0.000000      1.000000      0.020000   \n",
              "25%        0.000000      1.000000      0.000000      1.000000      0.340000   \n",
              "50%        0.000000      3.000000      1.000000      1.000000      0.500000   \n",
              "75%        0.000000      5.000000      1.000000      2.000000      0.660000   \n",
              "max        1.000000      6.000000      1.000000      4.000000      1.000000   \n",
              "\n",
              "              atemp           hum     windspeed        casual    registered  \\\n",
              "count  17379.000000  17379.000000  17379.000000  17379.000000  17379.000000   \n",
              "mean       0.475775      0.627229      0.190098     35.676218    153.786869   \n",
              "std        0.171850      0.192930      0.122340     49.305030    151.357286   \n",
              "min        0.000000      0.000000      0.000000      0.000000      0.000000   \n",
              "25%        0.333300      0.480000      0.104500      4.000000     34.000000   \n",
              "50%        0.484800      0.630000      0.194000     17.000000    115.000000   \n",
              "75%        0.621200      0.780000      0.253700     48.000000    220.000000   \n",
              "max        1.000000      1.000000      0.850700    367.000000    886.000000   \n",
              "\n",
              "                cnt  \n",
              "count  17379.000000  \n",
              "mean     189.463088  \n",
              "std      181.387599  \n",
              "min        1.000000  \n",
              "25%       40.000000  \n",
              "50%      142.000000  \n",
              "75%      281.000000  \n",
              "max      977.000000  "
            ],
            "text/html": [
              "\n",
              "  <div id=\"df-b1a8112c-8b31-4556-ad76-b7f78a899476\" class=\"colab-df-container\">\n",
              "    <div>\n",
              "<style scoped>\n",
              "    .dataframe tbody tr th:only-of-type {\n",
              "        vertical-align: middle;\n",
              "    }\n",
              "\n",
              "    .dataframe tbody tr th {\n",
              "        vertical-align: top;\n",
              "    }\n",
              "\n",
              "    .dataframe thead th {\n",
              "        text-align: right;\n",
              "    }\n",
              "</style>\n",
              "<table border=\"1\" class=\"dataframe\">\n",
              "  <thead>\n",
              "    <tr style=\"text-align: right;\">\n",
              "      <th></th>\n",
              "      <th>instant</th>\n",
              "      <th>season</th>\n",
              "      <th>yr</th>\n",
              "      <th>mnth</th>\n",
              "      <th>hr</th>\n",
              "      <th>holiday</th>\n",
              "      <th>weekday</th>\n",
              "      <th>workingday</th>\n",
              "      <th>weathersit</th>\n",
              "      <th>temp</th>\n",
              "      <th>atemp</th>\n",
              "      <th>hum</th>\n",
              "      <th>windspeed</th>\n",
              "      <th>casual</th>\n",
              "      <th>registered</th>\n",
              "      <th>cnt</th>\n",
              "    </tr>\n",
              "  </thead>\n",
              "  <tbody>\n",
              "    <tr>\n",
              "      <th>count</th>\n",
              "      <td>17379.0000</td>\n",
              "      <td>17379.000000</td>\n",
              "      <td>17379.000000</td>\n",
              "      <td>17379.000000</td>\n",
              "      <td>17379.000000</td>\n",
              "      <td>17379.000000</td>\n",
              "      <td>17379.000000</td>\n",
              "      <td>17379.000000</td>\n",
              "      <td>17379.000000</td>\n",
              "      <td>17379.000000</td>\n",
              "      <td>17379.000000</td>\n",
              "      <td>17379.000000</td>\n",
              "      <td>17379.000000</td>\n",
              "      <td>17379.000000</td>\n",
              "      <td>17379.000000</td>\n",
              "      <td>17379.000000</td>\n",
              "    </tr>\n",
              "    <tr>\n",
              "      <th>mean</th>\n",
              "      <td>8690.0000</td>\n",
              "      <td>2.501640</td>\n",
              "      <td>0.502561</td>\n",
              "      <td>6.537775</td>\n",
              "      <td>11.546752</td>\n",
              "      <td>0.028770</td>\n",
              "      <td>3.003683</td>\n",
              "      <td>0.682721</td>\n",
              "      <td>1.425283</td>\n",
              "      <td>0.496987</td>\n",
              "      <td>0.475775</td>\n",
              "      <td>0.627229</td>\n",
              "      <td>0.190098</td>\n",
              "      <td>35.676218</td>\n",
              "      <td>153.786869</td>\n",
              "      <td>189.463088</td>\n",
              "    </tr>\n",
              "    <tr>\n",
              "      <th>std</th>\n",
              "      <td>5017.0295</td>\n",
              "      <td>1.106918</td>\n",
              "      <td>0.500008</td>\n",
              "      <td>3.438776</td>\n",
              "      <td>6.914405</td>\n",
              "      <td>0.167165</td>\n",
              "      <td>2.005771</td>\n",
              "      <td>0.465431</td>\n",
              "      <td>0.639357</td>\n",
              "      <td>0.192556</td>\n",
              "      <td>0.171850</td>\n",
              "      <td>0.192930</td>\n",
              "      <td>0.122340</td>\n",
              "      <td>49.305030</td>\n",
              "      <td>151.357286</td>\n",
              "      <td>181.387599</td>\n",
              "    </tr>\n",
              "    <tr>\n",
              "      <th>min</th>\n",
              "      <td>1.0000</td>\n",
              "      <td>1.000000</td>\n",
              "      <td>0.000000</td>\n",
              "      <td>1.000000</td>\n",
              "      <td>0.000000</td>\n",
              "      <td>0.000000</td>\n",
              "      <td>0.000000</td>\n",
              "      <td>0.000000</td>\n",
              "      <td>1.000000</td>\n",
              "      <td>0.020000</td>\n",
              "      <td>0.000000</td>\n",
              "      <td>0.000000</td>\n",
              "      <td>0.000000</td>\n",
              "      <td>0.000000</td>\n",
              "      <td>0.000000</td>\n",
              "      <td>1.000000</td>\n",
              "    </tr>\n",
              "    <tr>\n",
              "      <th>25%</th>\n",
              "      <td>4345.5000</td>\n",
              "      <td>2.000000</td>\n",
              "      <td>0.000000</td>\n",
              "      <td>4.000000</td>\n",
              "      <td>6.000000</td>\n",
              "      <td>0.000000</td>\n",
              "      <td>1.000000</td>\n",
              "      <td>0.000000</td>\n",
              "      <td>1.000000</td>\n",
              "      <td>0.340000</td>\n",
              "      <td>0.333300</td>\n",
              "      <td>0.480000</td>\n",
              "      <td>0.104500</td>\n",
              "      <td>4.000000</td>\n",
              "      <td>34.000000</td>\n",
              "      <td>40.000000</td>\n",
              "    </tr>\n",
              "    <tr>\n",
              "      <th>50%</th>\n",
              "      <td>8690.0000</td>\n",
              "      <td>3.000000</td>\n",
              "      <td>1.000000</td>\n",
              "      <td>7.000000</td>\n",
              "      <td>12.000000</td>\n",
              "      <td>0.000000</td>\n",
              "      <td>3.000000</td>\n",
              "      <td>1.000000</td>\n",
              "      <td>1.000000</td>\n",
              "      <td>0.500000</td>\n",
              "      <td>0.484800</td>\n",
              "      <td>0.630000</td>\n",
              "      <td>0.194000</td>\n",
              "      <td>17.000000</td>\n",
              "      <td>115.000000</td>\n",
              "      <td>142.000000</td>\n",
              "    </tr>\n",
              "    <tr>\n",
              "      <th>75%</th>\n",
              "      <td>13034.5000</td>\n",
              "      <td>3.000000</td>\n",
              "      <td>1.000000</td>\n",
              "      <td>10.000000</td>\n",
              "      <td>18.000000</td>\n",
              "      <td>0.000000</td>\n",
              "      <td>5.000000</td>\n",
              "      <td>1.000000</td>\n",
              "      <td>2.000000</td>\n",
              "      <td>0.660000</td>\n",
              "      <td>0.621200</td>\n",
              "      <td>0.780000</td>\n",
              "      <td>0.253700</td>\n",
              "      <td>48.000000</td>\n",
              "      <td>220.000000</td>\n",
              "      <td>281.000000</td>\n",
              "    </tr>\n",
              "    <tr>\n",
              "      <th>max</th>\n",
              "      <td>17379.0000</td>\n",
              "      <td>4.000000</td>\n",
              "      <td>1.000000</td>\n",
              "      <td>12.000000</td>\n",
              "      <td>23.000000</td>\n",
              "      <td>1.000000</td>\n",
              "      <td>6.000000</td>\n",
              "      <td>1.000000</td>\n",
              "      <td>4.000000</td>\n",
              "      <td>1.000000</td>\n",
              "      <td>1.000000</td>\n",
              "      <td>1.000000</td>\n",
              "      <td>0.850700</td>\n",
              "      <td>367.000000</td>\n",
              "      <td>886.000000</td>\n",
              "      <td>977.000000</td>\n",
              "    </tr>\n",
              "  </tbody>\n",
              "</table>\n",
              "</div>\n",
              "    <div class=\"colab-df-buttons\">\n",
              "\n",
              "  <div class=\"colab-df-container\">\n",
              "    <button class=\"colab-df-convert\" onclick=\"convertToInteractive('df-b1a8112c-8b31-4556-ad76-b7f78a899476')\"\n",
              "            title=\"Convert this dataframe to an interactive table.\"\n",
              "            style=\"display:none;\">\n",
              "\n",
              "  <svg xmlns=\"http://www.w3.org/2000/svg\" height=\"24px\" viewBox=\"0 -960 960 960\">\n",
              "    <path d=\"M120-120v-720h720v720H120Zm60-500h600v-160H180v160Zm220 220h160v-160H400v160Zm0 220h160v-160H400v160ZM180-400h160v-160H180v160Zm440 0h160v-160H620v160ZM180-180h160v-160H180v160Zm440 0h160v-160H620v160Z\"/>\n",
              "  </svg>\n",
              "    </button>\n",
              "\n",
              "  <style>\n",
              "    .colab-df-container {\n",
              "      display:flex;\n",
              "      gap: 12px;\n",
              "    }\n",
              "\n",
              "    .colab-df-convert {\n",
              "      background-color: #E8F0FE;\n",
              "      border: none;\n",
              "      border-radius: 50%;\n",
              "      cursor: pointer;\n",
              "      display: none;\n",
              "      fill: #1967D2;\n",
              "      height: 32px;\n",
              "      padding: 0 0 0 0;\n",
              "      width: 32px;\n",
              "    }\n",
              "\n",
              "    .colab-df-convert:hover {\n",
              "      background-color: #E2EBFA;\n",
              "      box-shadow: 0px 1px 2px rgba(60, 64, 67, 0.3), 0px 1px 3px 1px rgba(60, 64, 67, 0.15);\n",
              "      fill: #174EA6;\n",
              "    }\n",
              "\n",
              "    .colab-df-buttons div {\n",
              "      margin-bottom: 4px;\n",
              "    }\n",
              "\n",
              "    [theme=dark] .colab-df-convert {\n",
              "      background-color: #3B4455;\n",
              "      fill: #D2E3FC;\n",
              "    }\n",
              "\n",
              "    [theme=dark] .colab-df-convert:hover {\n",
              "      background-color: #434B5C;\n",
              "      box-shadow: 0px 1px 3px 1px rgba(0, 0, 0, 0.15);\n",
              "      filter: drop-shadow(0px 1px 2px rgba(0, 0, 0, 0.3));\n",
              "      fill: #FFFFFF;\n",
              "    }\n",
              "  </style>\n",
              "\n",
              "    <script>\n",
              "      const buttonEl =\n",
              "        document.querySelector('#df-b1a8112c-8b31-4556-ad76-b7f78a899476 button.colab-df-convert');\n",
              "      buttonEl.style.display =\n",
              "        google.colab.kernel.accessAllowed ? 'block' : 'none';\n",
              "\n",
              "      async function convertToInteractive(key) {\n",
              "        const element = document.querySelector('#df-b1a8112c-8b31-4556-ad76-b7f78a899476');\n",
              "        const dataTable =\n",
              "          await google.colab.kernel.invokeFunction('convertToInteractive',\n",
              "                                                    [key], {});\n",
              "        if (!dataTable) return;\n",
              "\n",
              "        const docLinkHtml = 'Like what you see? Visit the ' +\n",
              "          '<a target=\"_blank\" href=https://colab.research.google.com/notebooks/data_table.ipynb>data table notebook</a>'\n",
              "          + ' to learn more about interactive tables.';\n",
              "        element.innerHTML = '';\n",
              "        dataTable['output_type'] = 'display_data';\n",
              "        await google.colab.output.renderOutput(dataTable, element);\n",
              "        const docLink = document.createElement('div');\n",
              "        docLink.innerHTML = docLinkHtml;\n",
              "        element.appendChild(docLink);\n",
              "      }\n",
              "    </script>\n",
              "  </div>\n",
              "\n",
              "\n",
              "<div id=\"df-3c4a7bf9-64c4-4011-96f7-864fafab51b3\">\n",
              "  <button class=\"colab-df-quickchart\" onclick=\"quickchart('df-3c4a7bf9-64c4-4011-96f7-864fafab51b3')\"\n",
              "            title=\"Suggest charts\"\n",
              "            style=\"display:none;\">\n",
              "\n",
              "<svg xmlns=\"http://www.w3.org/2000/svg\" height=\"24px\"viewBox=\"0 0 24 24\"\n",
              "     width=\"24px\">\n",
              "    <g>\n",
              "        <path d=\"M19 3H5c-1.1 0-2 .9-2 2v14c0 1.1.9 2 2 2h14c1.1 0 2-.9 2-2V5c0-1.1-.9-2-2-2zM9 17H7v-7h2v7zm4 0h-2V7h2v10zm4 0h-2v-4h2v4z\"/>\n",
              "    </g>\n",
              "</svg>\n",
              "  </button>\n",
              "\n",
              "<style>\n",
              "  .colab-df-quickchart {\n",
              "      --bg-color: #E8F0FE;\n",
              "      --fill-color: #1967D2;\n",
              "      --hover-bg-color: #E2EBFA;\n",
              "      --hover-fill-color: #174EA6;\n",
              "      --disabled-fill-color: #AAA;\n",
              "      --disabled-bg-color: #DDD;\n",
              "  }\n",
              "\n",
              "  [theme=dark] .colab-df-quickchart {\n",
              "      --bg-color: #3B4455;\n",
              "      --fill-color: #D2E3FC;\n",
              "      --hover-bg-color: #434B5C;\n",
              "      --hover-fill-color: #FFFFFF;\n",
              "      --disabled-bg-color: #3B4455;\n",
              "      --disabled-fill-color: #666;\n",
              "  }\n",
              "\n",
              "  .colab-df-quickchart {\n",
              "    background-color: var(--bg-color);\n",
              "    border: none;\n",
              "    border-radius: 50%;\n",
              "    cursor: pointer;\n",
              "    display: none;\n",
              "    fill: var(--fill-color);\n",
              "    height: 32px;\n",
              "    padding: 0;\n",
              "    width: 32px;\n",
              "  }\n",
              "\n",
              "  .colab-df-quickchart:hover {\n",
              "    background-color: var(--hover-bg-color);\n",
              "    box-shadow: 0 1px 2px rgba(60, 64, 67, 0.3), 0 1px 3px 1px rgba(60, 64, 67, 0.15);\n",
              "    fill: var(--button-hover-fill-color);\n",
              "  }\n",
              "\n",
              "  .colab-df-quickchart-complete:disabled,\n",
              "  .colab-df-quickchart-complete:disabled:hover {\n",
              "    background-color: var(--disabled-bg-color);\n",
              "    fill: var(--disabled-fill-color);\n",
              "    box-shadow: none;\n",
              "  }\n",
              "\n",
              "  .colab-df-spinner {\n",
              "    border: 2px solid var(--fill-color);\n",
              "    border-color: transparent;\n",
              "    border-bottom-color: var(--fill-color);\n",
              "    animation:\n",
              "      spin 1s steps(1) infinite;\n",
              "  }\n",
              "\n",
              "  @keyframes spin {\n",
              "    0% {\n",
              "      border-color: transparent;\n",
              "      border-bottom-color: var(--fill-color);\n",
              "      border-left-color: var(--fill-color);\n",
              "    }\n",
              "    20% {\n",
              "      border-color: transparent;\n",
              "      border-left-color: var(--fill-color);\n",
              "      border-top-color: var(--fill-color);\n",
              "    }\n",
              "    30% {\n",
              "      border-color: transparent;\n",
              "      border-left-color: var(--fill-color);\n",
              "      border-top-color: var(--fill-color);\n",
              "      border-right-color: var(--fill-color);\n",
              "    }\n",
              "    40% {\n",
              "      border-color: transparent;\n",
              "      border-right-color: var(--fill-color);\n",
              "      border-top-color: var(--fill-color);\n",
              "    }\n",
              "    60% {\n",
              "      border-color: transparent;\n",
              "      border-right-color: var(--fill-color);\n",
              "    }\n",
              "    80% {\n",
              "      border-color: transparent;\n",
              "      border-right-color: var(--fill-color);\n",
              "      border-bottom-color: var(--fill-color);\n",
              "    }\n",
              "    90% {\n",
              "      border-color: transparent;\n",
              "      border-bottom-color: var(--fill-color);\n",
              "    }\n",
              "  }\n",
              "</style>\n",
              "\n",
              "  <script>\n",
              "    async function quickchart(key) {\n",
              "      const quickchartButtonEl =\n",
              "        document.querySelector('#' + key + ' button');\n",
              "      quickchartButtonEl.disabled = true;  // To prevent multiple clicks.\n",
              "      quickchartButtonEl.classList.add('colab-df-spinner');\n",
              "      try {\n",
              "        const charts = await google.colab.kernel.invokeFunction(\n",
              "            'suggestCharts', [key], {});\n",
              "      } catch (error) {\n",
              "        console.error('Error during call to suggestCharts:', error);\n",
              "      }\n",
              "      quickchartButtonEl.classList.remove('colab-df-spinner');\n",
              "      quickchartButtonEl.classList.add('colab-df-quickchart-complete');\n",
              "    }\n",
              "    (() => {\n",
              "      let quickchartButtonEl =\n",
              "        document.querySelector('#df-3c4a7bf9-64c4-4011-96f7-864fafab51b3 button');\n",
              "      quickchartButtonEl.style.display =\n",
              "        google.colab.kernel.accessAllowed ? 'block' : 'none';\n",
              "    })();\n",
              "  </script>\n",
              "</div>\n",
              "\n",
              "    </div>\n",
              "  </div>\n"
            ],
            "application/vnd.google.colaboratory.intrinsic+json": {
              "type": "dataframe",
              "summary": "{\n  \"name\": \"hour_df\",\n  \"rows\": 8,\n  \"fields\": [\n    {\n      \"column\": \"instant\",\n      \"properties\": {\n        \"dtype\": \"number\",\n        \"std\": 6263.17088569678,\n        \"min\": 1.0,\n        \"max\": 17379.0,\n        \"num_unique_values\": 6,\n        \"samples\": [\n          17379.0,\n          8690.0,\n          13034.5\n        ],\n        \"semantic_type\": \"\",\n        \"description\": \"\"\n      }\n    },\n    {\n      \"column\": \"season\",\n      \"properties\": {\n        \"dtype\": \"number\",\n        \"std\": 6143.565598544762,\n        \"min\": 1.0,\n        \"max\": 17379.0,\n        \"num_unique_values\": 7,\n        \"samples\": [\n          17379.0,\n          2.5016399102364923,\n          3.0\n        ],\n        \"semantic_type\": \"\",\n        \"description\": \"\"\n      }\n    },\n    {\n      \"column\": \"yr\",\n      \"properties\": {\n        \"dtype\": \"number\",\n        \"std\": 6144.202229000585,\n        \"min\": 0.0,\n        \"max\": 17379.0,\n        \"num_unique_values\": 5,\n        \"samples\": [\n          0.5025605615973301,\n          1.0,\n          0.5000078290910674\n        ],\n        \"semantic_type\": \"\",\n        \"description\": \"\"\n      }\n    },\n    {\n      \"column\": \"mnth\",\n      \"properties\": {\n        \"dtype\": \"number\",\n        \"std\": 6142.184250617928,\n        \"min\": 1.0,\n        \"max\": 17379.0,\n        \"num_unique_values\": 8,\n        \"samples\": [\n          6.537775476149376,\n          7.0,\n          17379.0\n        ],\n        \"semantic_type\": \"\",\n        \"description\": \"\"\n      }\n    },\n    {\n      \"column\": \"hr\",\n      \"properties\": {\n        \"dtype\": \"number\",\n        \"std\": 6140.496148184536,\n        \"min\": 0.0,\n        \"max\": 17379.0,\n        \"num_unique_values\": 8,\n        \"samples\": [\n          11.546751826917545,\n          12.0,\n          17379.0\n        ],\n        \"semantic_type\": \"\",\n        \"description\": \"\"\n      }\n    },\n    {\n      \"column\": \"holiday\",\n      \"properties\": {\n        \"dtype\": \"number\",\n        \"std\": 6144.34398083374,\n        \"min\": 0.0,\n        \"max\": 17379.0,\n        \"num_unique_values\": 5,\n        \"samples\": [\n          0.028770355026181024,\n          1.0,\n          0.16716527638435244\n        ],\n        \"semantic_type\": \"\",\n        \"description\": \"\"\n      }\n    },\n    {\n      \"column\": \"weekday\",\n      \"properties\": {\n        \"dtype\": \"number\",\n        \"std\": 6143.394057236404,\n        \"min\": 0.0,\n        \"max\": 17379.0,\n        \"num_unique_values\": 8,\n        \"samples\": [\n          3.003682605443351,\n          3.0,\n          17379.0\n        ],\n        \"semantic_type\": \"\",\n        \"description\": \"\"\n      }\n    },\n    {\n      \"column\": \"workingday\",\n      \"properties\": {\n        \"dtype\": \"number\",\n        \"std\": 6144.194876084176,\n        \"min\": 0.0,\n        \"max\": 17379.0,\n        \"num_unique_values\": 5,\n        \"samples\": [\n          0.6827205247712756,\n          1.0,\n          0.46543063352387354\n        ],\n        \"semantic_type\": \"\",\n        \"description\": \"\"\n      }\n    },\n    {\n      \"column\": \"weathersit\",\n      \"properties\": {\n        \"dtype\": \"number\",\n        \"std\": 6143.845618830189,\n        \"min\": 0.6393568777543036,\n        \"max\": 17379.0,\n        \"num_unique_values\": 6,\n        \"samples\": [\n          17379.0,\n          1.425283387997008,\n          4.0\n        ],\n        \"semantic_type\": \"\",\n        \"description\": \"\"\n      }\n    },\n    {\n      \"column\": \"temp\",\n      \"properties\": {\n        \"dtype\": \"number\",\n        \"std\": 6144.242275843299,\n        \"min\": 0.02,\n        \"max\": 17379.0,\n        \"num_unique_values\": 8,\n        \"samples\": [\n          0.4969871684216583,\n          0.5,\n          17379.0\n        ],\n        \"semantic_type\": \"\",\n        \"description\": \"\"\n      }\n    },\n    {\n      \"column\": \"atemp\",\n      \"properties\": {\n        \"dtype\": \"number\",\n        \"std\": 6144.248469131704,\n        \"min\": 0.0,\n        \"max\": 17379.0,\n        \"num_unique_values\": 8,\n        \"samples\": [\n          0.4757751021347604,\n          0.4848,\n          17379.0\n        ],\n        \"semantic_type\": \"\",\n        \"description\": \"\"\n      }\n    },\n    {\n      \"column\": \"hum\",\n      \"properties\": {\n        \"dtype\": \"number\",\n        \"std\": 6144.216991945488,\n        \"min\": 0.0,\n        \"max\": 17379.0,\n        \"num_unique_values\": 8,\n        \"samples\": [\n          0.6272288394038783,\n          0.63,\n          17379.0\n        ],\n        \"semantic_type\": \"\",\n        \"description\": \"\"\n      }\n    },\n    {\n      \"column\": \"windspeed\",\n      \"properties\": {\n        \"dtype\": \"number\",\n        \"std\": 6144.317742909861,\n        \"min\": 0.0,\n        \"max\": 17379.0,\n        \"num_unique_values\": 8,\n        \"samples\": [\n          0.1900976063064618,\n          0.194,\n          17379.0\n        ],\n        \"semantic_type\": \"\",\n        \"description\": \"\"\n      }\n    },\n    {\n      \"column\": \"casual\",\n      \"properties\": {\n        \"dtype\": \"number\",\n        \"std\": 6119.284233238239,\n        \"min\": 0.0,\n        \"max\": 17379.0,\n        \"num_unique_values\": 8,\n        \"samples\": [\n          35.67621842453536,\n          17.0,\n          17379.0\n        ],\n        \"semantic_type\": \"\",\n        \"description\": \"\"\n      }\n    },\n    {\n      \"column\": \"registered\",\n      \"properties\": {\n        \"dtype\": \"number\",\n        \"std\": 6072.038722856437,\n        \"min\": 0.0,\n        \"max\": 17379.0,\n        \"num_unique_values\": 8,\n        \"samples\": [\n          153.78686920996606,\n          115.0,\n          17379.0\n        ],\n        \"semantic_type\": \"\",\n        \"description\": \"\"\n      }\n    },\n    {\n      \"column\": \"cnt\",\n      \"properties\": {\n        \"dtype\": \"number\",\n        \"std\": 6060.617601280442,\n        \"min\": 1.0,\n        \"max\": 17379.0,\n        \"num_unique_values\": 8,\n        \"samples\": [\n          189.46308763450142,\n          142.0,\n          17379.0\n        ],\n        \"semantic_type\": \"\",\n        \"description\": \"\"\n      }\n    }\n  ]\n}"
            }
          },
          "metadata": {},
          "execution_count": 102
        }
      ]
    },
    {
      "cell_type": "code",
      "source": [
        "# Mengecek missing values\n",
        "print(\"\\n Missing Values Data Per Jam:\")\n",
        "print(hour_df.isnull().sum())"
      ],
      "metadata": {
        "colab": {
          "base_uri": "https://localhost:8080/"
        },
        "id": "lWuDjoS70vMr",
        "outputId": "09050895-a60a-4823-8d4a-47e914871ccf"
      },
      "execution_count": 103,
      "outputs": [
        {
          "output_type": "stream",
          "name": "stdout",
          "text": [
            "\n",
            " Missing Values Data Per Jam:\n",
            "instant       0\n",
            "dteday        0\n",
            "season        0\n",
            "yr            0\n",
            "mnth          0\n",
            "hr            0\n",
            "holiday       0\n",
            "weekday       0\n",
            "workingday    0\n",
            "weathersit    0\n",
            "temp          0\n",
            "atemp         0\n",
            "hum           0\n",
            "windspeed     0\n",
            "casual        0\n",
            "registered    0\n",
            "cnt           0\n",
            "dtype: int64\n"
          ]
        }
      ]
    },
    {
      "cell_type": "code",
      "source": [
        "# Mengecek duplikasi\n",
        "print(\"Jumlah Duplikasi Data Per Jam:\", hour_df.duplicated().sum())"
      ],
      "metadata": {
        "colab": {
          "base_uri": "https://localhost:8080/"
        },
        "id": "K4C8Ge9H0y2w",
        "outputId": "fcdfee7f-ce39-4bf5-fb32-bc5204e9af1c"
      },
      "execution_count": 104,
      "outputs": [
        {
          "output_type": "stream",
          "name": "stdout",
          "text": [
            "Jumlah Duplikasi Data Per Jam: 0\n"
          ]
        }
      ]
    },
    {
      "cell_type": "markdown",
      "source": [
        "**Insight dari Data Per Jam (hour_df)**\n",
        "\n",
        "*1. Struktur Data*\n",
        "- Dataset ini memiliki **17.379 baris dan 17 kolom**.\n",
        "- **Tidak ada missing values**, sehingga tidak diperlukan imputasi data.\n",
        "- **Tidak ditemukan duplikasi data**, sehingga tidak perlu dilakukan pembersihan lebih lanjut.\n",
        "\n",
        "*2. Statistik Deskriptif*\n",
        "- **Jumlah Penyewaan Sepeda (`cnt`)**\n",
        "  - Rata-rata jumlah penyewaan sepeda per jam adalah **189**.\n",
        "  - Penyewaan minimum hanya **1**, sedangkan maksimum mencapai **977**.\n",
        "  - Standar deviasi sekitar **181**, menunjukkan variasi yang cukup besar dalam jumlah penyewaan setiap jamnya.\n",
        "\n",
        "- **Variabel Waktu**\n",
        "  - Dataset mencakup rentang waktu per jam (`hr`) dari **00:00 hingga 23:00** setiap hari.\n",
        "  - Rata-rata jam tercatat sekitar **11.5**, menunjukkan distribusi data merata antara pagi dan malam.\n",
        "\n",
        "- **Variabel Cuaca**\n",
        "  - Suhu (`temp`) berkisar antara **0.02 - 1.00** dalam skala normalisasi.\n",
        "  - Kelembaban (`hum`) dan kecepatan angin (`windspeed`) juga memiliki sebaran yang cukup lebar.\n",
        "\n",
        "- **Pengguna Casual vs Registered**\n",
        "  - Rata-rata penyewaan oleh pengguna **casual** adalah **35**, sedangkan **registered** adalah **153**.\n",
        "  - Jumlah penyewaan oleh pengguna **terdaftar (registered)** jauh lebih tinggi dibandingkan dengan pengguna **casual**, menunjukkan bahwa sebagian besar pelanggan adalah pelanggan tetap.\n",
        "\n",
        "*3. Interpretasi Awal*\n",
        "- Dataset ini **lebih besar** dibandingkan `day_df` karena memiliki data per jam, sehingga lebih rinci dalam analisis tren waktu.\n",
        "- **Tidak ada missing values dan duplikasi**, sehingga bisa langsung digunakan untuk eksplorasi lebih lanjut.\n",
        "- Perlu dilakukan **analisis tren berdasarkan jam**, misalnya kapan penyewaan mencapai puncaknya.\n",
        "- **Perbedaan jumlah penyewaan antara pengguna casual dan registered** dapat dianalisis lebih lanjut untuk memahami pola perilaku pengguna.\n"
      ],
      "metadata": {
        "id": "yMmD8nNF28w9"
      }
    },
    {
      "cell_type": "markdown",
      "metadata": {
        "id": "EhN5R4hr8DC1"
      },
      "source": [
        "### Cleaning Data"
      ]
    },
    {
      "cell_type": "markdown",
      "source": [
        "Cleaning data df_day\n"
      ],
      "metadata": {
        "id": "5egeZUJJ3xHn"
      }
    },
    {
      "cell_type": "code",
      "source": [
        "# Menghapus duplikasi jika ada\n",
        "day_df.drop_duplicates(inplace=True)\n",
        "print(\"Jumlah Duplikasi Data Harian Setelah Dihapus:\", day_df.duplicated().sum())"
      ],
      "metadata": {
        "colab": {
          "base_uri": "https://localhost:8080/"
        },
        "id": "fjIUztC732rR",
        "outputId": "fb73c18d-7d3f-456e-c266-3cbbac2443f6"
      },
      "execution_count": 105,
      "outputs": [
        {
          "output_type": "stream",
          "name": "stdout",
          "text": [
            "Jumlah Duplikasi Data Harian Setelah Dihapus: 0\n"
          ]
        }
      ]
    },
    {
      "cell_type": "code",
      "source": [
        "# Mengubah type data tanggal menjadi datetime\n",
        "day_df[\"dteday\"] = pd.to_datetime(day_df[\"dteday\"])\n",
        "print(\"\\nTipe data setelah Cleaning Data (day_df):\\n\", day_df.dtypes)"
      ],
      "metadata": {
        "colab": {
          "base_uri": "https://localhost:8080/"
        },
        "id": "axbzAx5r4GMC",
        "outputId": "667a924d-0798-4098-fb5b-9c03e2b9bb9f"
      },
      "execution_count": 106,
      "outputs": [
        {
          "output_type": "stream",
          "name": "stdout",
          "text": [
            "\n",
            "Tipe data setelah Cleaning Data (day_df):\n",
            " instant                int64\n",
            "dteday        datetime64[ns]\n",
            "season                 int64\n",
            "yr                     int64\n",
            "mnth                   int64\n",
            "holiday                int64\n",
            "weekday                int64\n",
            "workingday             int64\n",
            "weathersit             int64\n",
            "temp                 float64\n",
            "atemp                float64\n",
            "hum                  float64\n",
            "windspeed            float64\n",
            "casual                 int64\n",
            "registered             int64\n",
            "cnt                    int64\n",
            "dtype: object\n"
          ]
        }
      ]
    },
    {
      "cell_type": "code",
      "source": [
        "# Mengubah variabel season menjadi kategori\n",
        "day_df['season'] = day_df['season'].astype('category')\n",
        "day_df['weathersit'] = day_df['weathersit'].astype('category')"
      ],
      "metadata": {
        "id": "9tsN4Mhx4NGZ"
      },
      "execution_count": 107,
      "outputs": []
    },
    {
      "cell_type": "code",
      "source": [
        "# Menghapus kolom yang tidak diperlukan (opsional)\n",
        "# Misalnya, kita bisa menghapus kolom 'instant' karena tidak terlalu berguna\n",
        "day_df.drop(columns=[\"instant\"], inplace=True)"
      ],
      "metadata": {
        "id": "I09hNiqP4sJQ"
      },
      "execution_count": 108,
      "outputs": []
    },
    {
      "cell_type": "code",
      "source": [
        "# Menampilkan hasil akhir setelah cleaning\n",
        "print(\"Data Harian Setelah di cleaning:\", day_df.shape)"
      ],
      "metadata": {
        "colab": {
          "base_uri": "https://localhost:8080/"
        },
        "id": "zLPxpbja5jyT",
        "outputId": "afcfaf32-3f54-44ed-be18-5a47cbdc682a"
      },
      "execution_count": 109,
      "outputs": [
        {
          "output_type": "stream",
          "name": "stdout",
          "text": [
            "Data Harian Setelah di cleaning: (731, 15)\n"
          ]
        }
      ]
    },
    {
      "cell_type": "code",
      "source": [
        "# Cek apakah ada nilai negatif atau nol pada kolom yang seharusnya positif di Data Harian\n",
        "num_cols_day = [\"cnt\", \"temp\", \"atemp\", \"hum\", \"windspeed\"]\n",
        "for col in num_cols_day:\n",
        "    print(f\"\\nCek Nilai Minimum pada {col} di Data Harian (Sebelum Dihapus): {day_df[col].min()}\")\n",
        "\n",
        "# Menghapus baris dengan nilai negatif pada Data Harian\n",
        "for col in num_cols_day:\n",
        "    day_df = day_df[day_df[col] >= 0]\n",
        "\n",
        "# Menangani nilai 0 pada kelembaban (hum) dan kecepatan angin (windspeed)\n",
        "day_hum_outlier = day_df[day_df[\"hum\"] == 0].shape[0]\n",
        "day_wind_outlier = day_df[day_df[\"windspeed\"] == 0].shape[0]\n",
        "\n",
        "day_df = day_df[day_df[\"hum\"] > 0]\n",
        "day_df = day_df[day_df[\"windspeed\"] > 0]\n",
        "\n",
        "# Menampilkan jumlah data yang dihapus\n",
        "print(\"\\nJumlah Data yang Dihapus di Data Harian:\")\n",
        "print(f\"- {day_hum_outlier} baris (kelembaban = 0)\")\n",
        "print(f\"- {day_wind_outlier} baris (windspeed = 0)\")\n",
        "\n",
        "# Menampilkan jumlah data setelah pembersihan\n",
        "print(\"\\nData Harian Setelah Menghapus Nilai Tidak Valid:\", day_df.shape)"
      ],
      "metadata": {
        "colab": {
          "base_uri": "https://localhost:8080/"
        },
        "id": "SMBqxkOA972x",
        "outputId": "4b34af79-fb30-4867-a67c-3e64815e342b"
      },
      "execution_count": 110,
      "outputs": [
        {
          "output_type": "stream",
          "name": "stdout",
          "text": [
            "\n",
            "Cek Nilai Minimum pada cnt di Data Harian (Sebelum Dihapus): 22\n",
            "\n",
            "Cek Nilai Minimum pada temp di Data Harian (Sebelum Dihapus): 0.0591304\n",
            "\n",
            "Cek Nilai Minimum pada atemp di Data Harian (Sebelum Dihapus): 0.0790696\n",
            "\n",
            "Cek Nilai Minimum pada hum di Data Harian (Sebelum Dihapus): 0.0\n",
            "\n",
            "Cek Nilai Minimum pada windspeed di Data Harian (Sebelum Dihapus): 0.0223917\n",
            "\n",
            "Jumlah Data yang Dihapus di Data Harian:\n",
            "- 1 baris (kelembaban = 0)\n",
            "- 0 baris (windspeed = 0)\n",
            "\n",
            "Data Harian Setelah Menghapus Nilai Tidak Valid: (730, 15)\n"
          ]
        }
      ]
    },
    {
      "cell_type": "code",
      "source": [
        "# Fungsi untuk mendeteksi dan menghapus outlier menggunakan IQR\n",
        "def remove_outliers_iqr(df, columns):\n",
        "    for col in columns:\n",
        "        Q1 = df[col].quantile(0.25)\n",
        "        Q3 = df[col].quantile(0.75)\n",
        "        IQR = Q3 - Q1\n",
        "        lower_bound = Q1 - 1.5 * IQR\n",
        "        upper_bound = Q3 + 1.5 * IQR\n",
        "        df = df[(df[col] >= lower_bound) & (df[col] <= upper_bound)]\n",
        "    return df\n",
        "\n",
        "# Kolom numerik yang dicek outlier\n",
        "num_cols = [\"cnt\", \"temp\", \"atemp\", \"hum\", \"windspeed\"]\n",
        "\n",
        "# Mendeteksi dan menghapus outlier dari data harian\n",
        "day_df_cleaned = remove_outliers_iqr(day_df, num_cols)\n",
        "print(\"\\n Data Harian Setelah Menghapus Outlier:\", day_df_cleaned.shape)"
      ],
      "metadata": {
        "colab": {
          "base_uri": "https://localhost:8080/"
        },
        "id": "1VUOvaa87o9r",
        "outputId": "7288fc1e-1eaf-4354-8a17-69b0ff24e1f2"
      },
      "execution_count": 111,
      "outputs": [
        {
          "output_type": "stream",
          "name": "stdout",
          "text": [
            "\n",
            " Data Harian Setelah Menghapus Outlier: (717, 15)\n"
          ]
        }
      ]
    },
    {
      "cell_type": "markdown",
      "source": [
        "**Insight dari Cleaning Data Harian (day_df)**\n",
        "\n",
        "*1. Duplikasi Data*\n",
        "- Setelah proses pembersihan, jumlah duplikasi dalam data harian adalah **0**.\n",
        "- Tidak ada baris yang perlu dihapus akibat duplikasi.\n",
        "\n",
        "*2. Perubahan Tipe Data*\n",
        "- Tipe data `dteday` telah dikonversi ke **datetime** untuk mempermudah analisis berbasis waktu.\n",
        "- Kolom lainnya tetap sesuai dengan tipe data yang diperlukan, seperti **int64** untuk variabel kategori dan **float64** untuk variabel numerik.\n",
        "\n",
        "*3. Pembersihan Data*\n",
        "- **Sebelum pembersihan**, dataset berisi **731 baris dan 15 kolom**.\n",
        "- Beberapa nilai minimum yang mencurigakan ditemukan:\n",
        "  - **cnt (jumlah penyewaan sepeda):** 22 (valid)\n",
        "  - **temp (suhu):** 0.0591 (valid)\n",
        "  - **atemp (suhu yang dirasakan):** 0.0791 (valid)\n",
        "  - **hum (kelembaban):** **0.0** (tidak valid)\n",
        "  - **windspeed (kecepatan angin):** 0.0224 (valid)\n",
        "\n",
        "- **Jumlah data yang dihapus:**\n",
        "  - **1 baris** dihapus karena kelembaban (`hum`) = 0, yang dianggap sebagai data tidak valid.\n",
        "  - **0 baris** dihapus karena kecepatan angin (`windspeed`) masih dalam batas wajar.\n",
        "\n",
        "- Setelah pembersihan nilai tidak valid, jumlah data menjadi **730 baris**.\n",
        "\n",
        "*4. Menghapus Outlier*\n",
        "- Untuk meningkatkan kualitas data, outlier juga dihapus berdasarkan distribusi data.\n",
        "- Setelah menghapus outlier, jumlah data akhir menjadi **717 baris dan 15 kolom**."
      ],
      "metadata": {
        "id": "8r6TrG9R8dun"
      }
    },
    {
      "cell_type": "markdown",
      "source": [
        "Cleaning data df_hour"
      ],
      "metadata": {
        "id": "nirJ6jNa4A4h"
      }
    },
    {
      "cell_type": "code",
      "source": [
        "# Menghapus duplikasi jika ada\n",
        "hour_df.drop_duplicates(inplace=True)\n",
        "print(\"Jumlah Duplikasi Data Per Jam Setelah Dihapus:\", hour_df.duplicated().sum())"
      ],
      "metadata": {
        "colab": {
          "base_uri": "https://localhost:8080/"
        },
        "id": "5al8skqS38mG",
        "outputId": "9a5657ca-b90e-4e41-e5e3-cb1805772d96"
      },
      "execution_count": 112,
      "outputs": [
        {
          "output_type": "stream",
          "name": "stdout",
          "text": [
            "Jumlah Duplikasi Data Per Jam Setelah Dihapus: 0\n"
          ]
        }
      ]
    },
    {
      "cell_type": "code",
      "source": [
        "# Mengubah type data tanggal menjadi datetime\n",
        "hour_df[\"dteday\"] = pd.to_datetime(hour_df[\"dteday\"])\n",
        "print(\"\\nTipe data setelah Cleaning Data (hour_df):\\n\", hour_df.dtypes)"
      ],
      "metadata": {
        "colab": {
          "base_uri": "https://localhost:8080/"
        },
        "id": "K6jjayJi4ILX",
        "outputId": "6b3f4dba-cd4a-4d2f-d16f-a408c25e12f1"
      },
      "execution_count": 113,
      "outputs": [
        {
          "output_type": "stream",
          "name": "stdout",
          "text": [
            "\n",
            "Tipe data setelah Cleaning Data (hour_df):\n",
            " instant                int64\n",
            "dteday        datetime64[ns]\n",
            "season                 int64\n",
            "yr                     int64\n",
            "mnth                   int64\n",
            "hr                     int64\n",
            "holiday                int64\n",
            "weekday                int64\n",
            "workingday             int64\n",
            "weathersit             int64\n",
            "temp                 float64\n",
            "atemp                float64\n",
            "hum                  float64\n",
            "windspeed            float64\n",
            "casual                 int64\n",
            "registered             int64\n",
            "cnt                    int64\n",
            "dtype: object\n"
          ]
        }
      ]
    },
    {
      "cell_type": "code",
      "source": [
        "# Mengubah variabel season menjadi kategori\n",
        "hour_df['season'] = hour_df['season'].astype('category')\n",
        "hour_df['weathersit'] = hour_df['weathersit'].astype('category')"
      ],
      "metadata": {
        "id": "yCx-w_pg4Pqs"
      },
      "execution_count": 114,
      "outputs": []
    },
    {
      "cell_type": "code",
      "source": [
        "# Menghapus kolom yang tidak diperlukan (opsional)\n",
        "# Misalnya, kita bisa menghapus kolom 'instant' karena tidak terlalu berguna\n",
        "hour_df.drop(columns=[\"instant\"], inplace=True)"
      ],
      "metadata": {
        "id": "5D8Ubuud4t2G"
      },
      "execution_count": 115,
      "outputs": []
    },
    {
      "cell_type": "code",
      "source": [
        "# Menampilkan hasil akhir setelah cleaning\n",
        "print(\"Data Per Jam setelah di cleaning:\", hour_df.shape)"
      ],
      "metadata": {
        "colab": {
          "base_uri": "https://localhost:8080/"
        },
        "id": "DC5R_WUj5mAe",
        "outputId": "8089e535-aa51-4432-c63b-d12d1cf7f8e7"
      },
      "execution_count": 116,
      "outputs": [
        {
          "output_type": "stream",
          "name": "stdout",
          "text": [
            "Data Per Jam setelah di cleaning: (17379, 16)\n"
          ]
        }
      ]
    },
    {
      "cell_type": "code",
      "source": [
        "# Cek apakah ada nilai negatif atau nol pada kolom yang seharusnya positif di Data Per Jam\n",
        "num_cols_hour = [\"cnt\", \"temp\", \"atemp\", \"hum\", \"windspeed\"]\n",
        "for col in num_cols_hour:\n",
        "    print(f\"\\nCek Nilai Minimum pada {col} di Data Per Jam (Sebelum Dihapus): {hour_df[col].min()}\")\n",
        "\n",
        "# Menghapus baris dengan nilai negatif pada Data Per Jam\n",
        "for col in num_cols_hour:\n",
        "    hour_df = hour_df[hour_df[col] >= 0]\n",
        "\n",
        "# Menangani nilai 0 pada kelembaban (hum) dan kecepatan angin (windspeed)\n",
        "hour_hum_outlier = hour_df[hour_df[\"hum\"] == 0].shape[0]\n",
        "hour_wind_outlier = hour_df[hour_df[\"windspeed\"] == 0].shape[0]\n",
        "\n",
        "hour_df = hour_df[hour_df[\"hum\"] > 0]\n",
        "hour_df = hour_df[hour_df[\"windspeed\"] > 0]\n",
        "\n",
        "# Menampilkan jumlah data yang dihapus\n",
        "print(\"\\nJumlah Data yang Dihapus di Data Per Jam:\")\n",
        "print(f\"- {hour_hum_outlier} baris (kelembaban = 0)\")\n",
        "print(f\"- {hour_wind_outlier} baris (windspeed = 0)\")\n",
        "\n",
        "# Menampilkan jumlah data setelah pembersihan\n",
        "print(\"\\nData Per Jam Setelah Menghapus Nilai Tidak Valid:\", hour_df.shape)"
      ],
      "metadata": {
        "colab": {
          "base_uri": "https://localhost:8080/"
        },
        "id": "58PekG5F-Ztn",
        "outputId": "9f7c64de-fbf0-449f-aa6d-d5876ea4af36"
      },
      "execution_count": 117,
      "outputs": [
        {
          "output_type": "stream",
          "name": "stdout",
          "text": [
            "\n",
            "Cek Nilai Minimum pada cnt di Data Per Jam (Sebelum Dihapus): 1\n",
            "\n",
            "Cek Nilai Minimum pada temp di Data Per Jam (Sebelum Dihapus): 0.02\n",
            "\n",
            "Cek Nilai Minimum pada atemp di Data Per Jam (Sebelum Dihapus): 0.0\n",
            "\n",
            "Cek Nilai Minimum pada hum di Data Per Jam (Sebelum Dihapus): 0.0\n",
            "\n",
            "Cek Nilai Minimum pada windspeed di Data Per Jam (Sebelum Dihapus): 0.0\n",
            "\n",
            "Jumlah Data yang Dihapus di Data Per Jam:\n",
            "- 22 baris (kelembaban = 0)\n",
            "- 2180 baris (windspeed = 0)\n",
            "\n",
            "Data Per Jam Setelah Menghapus Nilai Tidak Valid: (15177, 16)\n"
          ]
        }
      ]
    },
    {
      "cell_type": "code",
      "source": [
        "# Fungsi untuk mendeteksi dan menghapus outlier menggunakan IQR\n",
        "def remove_outliers_iqr(df, columns):\n",
        "    for col in columns:\n",
        "        Q1 = df[col].quantile(0.25)\n",
        "        Q3 = df[col].quantile(0.75)\n",
        "        IQR = Q3 - Q1\n",
        "        lower_bound = Q1 - 1.5 * IQR\n",
        "        upper_bound = Q3 + 1.5 * IQR\n",
        "        df = df[(df[col] >= lower_bound) & (df[col] <= upper_bound)]\n",
        "    return df\n",
        "\n",
        "# Kolom numerik yang dicek outlier\n",
        "num_cols = [\"cnt\", \"temp\", \"atemp\", \"hum\", \"windspeed\"]\n",
        "\n",
        "# Mendeteksi dan menghapus outlier dari data per jam\n",
        "hour_df_cleaned = remove_outliers_iqr(hour_df, num_cols)\n",
        "print(\"\\n Data Per Jam Setelah Menghapus Outlier:\", hour_df_cleaned.shape)"
      ],
      "metadata": {
        "colab": {
          "base_uri": "https://localhost:8080/"
        },
        "id": "7aBO2sSc7sDS",
        "outputId": "250260ee-3038-44c2-bcfc-177e1fae3a49"
      },
      "execution_count": 118,
      "outputs": [
        {
          "output_type": "stream",
          "name": "stdout",
          "text": [
            "\n",
            " Data Per Jam Setelah Menghapus Outlier: (14516, 16)\n"
          ]
        }
      ]
    },
    {
      "cell_type": "markdown",
      "source": [
        "**Insight dari Cleaning Data Per Jam (hour_df)**\n",
        "\n",
        "*1. Duplikasi Data*\n",
        "- Setelah dilakukan pengecekan, **tidak ada duplikasi data** dalam dataset per jam (`hour_df`).\n",
        "\n",
        "*2. Tipe Data Setelah Cleaning*\n",
        "- Semua tipe data sudah sesuai, termasuk:\n",
        "  - **Kolom waktu (`dteday`)** yang telah dikonversi ke format **datetime**.\n",
        "  - **Kolom numerik** seperti `temp`, `atemp`, `hum`, dan `windspeed` bertipe **float64**.\n",
        "  - **Kolom kategori** seperti `season`, `yr`, `mnth`, `hr`, dan lainnya bertipe **int64**.\n",
        "\n",
        "*3. Ukuran Dataset*\n",
        "- Sebelum pembersihan, jumlah data per jam adalah **17.379 baris dan 16 kolom**.\n",
        "- Setelah pembersihan, jumlah data berkurang menjadi **14.516 baris dan 16 kolom**, menunjukkan bahwa ada beberapa data yang dihapus untuk meningkatkan kualitas analisis.\n",
        "\n",
        "*4. Pengecekan Nilai Minimum*\n",
        "- Beberapa variabel memiliki nilai **0.0**, yang mungkin tidak masuk akal dalam konteks data cuaca:\n",
        "  - **cnt (jumlah penyewaan)**: Minimum = **1** (valid).\n",
        "  - **temp (suhu)**: Minimum = **0.02** (valid).\n",
        "  - **atemp (suhu terasa)**: Minimum = **0.0** (perlu dicek lebih lanjut).\n",
        "  - **hum (kelembaban)**: Minimum = **0.0** (kemungkinan tidak valid).\n",
        "  - **windspeed (kecepatan angin)**: Minimum = **0.0** (kemungkinan tidak valid).\n",
        "\n",
        "*5. Pembersihan Data*\n",
        "- **Data yang dihapus** karena memiliki nilai yang tidak valid:\n",
        "  - **22 baris dengan kelembaban (`hum`) = 0.0**.\n",
        "  - **2.180 baris dengan kecepatan angin (`windspeed`) = 0.0**.\n",
        "  - Setelah menghapus data tidak valid, jumlah data menjadi **15.177 baris**.\n",
        "\n",
        "*6. Menghapus Outlier*\n",
        "- Setelah proses pembersihan tambahan untuk outlier, jumlah data akhirnya menjadi **14.516 baris**.\n",
        "- Dengan demikian, dataset ini kini lebih bersih dan siap untuk analisis lebih lanjut.\n"
      ],
      "metadata": {
        "id": "9Kgqk4PvOKXx"
      }
    },
    {
      "cell_type": "code",
      "source": [
        "# Menyimpan Data Harian yang Sudah Dibersihkan ke CSV\n",
        "day_df.to_csv(\"day_cleaned.csv\", index=False)\n",
        "hour_df.to_csv(\"hour_cleaned.csv\", index=False)"
      ],
      "metadata": {
        "id": "7iot_jrxxV11"
      },
      "execution_count": 119,
      "outputs": []
    },
    {
      "cell_type": "markdown",
      "source": [
        "**Insight:**\n",
        "- Setelah proses cleaning data, langkah terakhir adalah menyimpan dataset yang sudah bersih ke dalam file CSV agar dapat digunakan kembali tanpa perlu mengulangi proses pembersihan. karena dataset yang sudah bersih bisa digunakan kembali untuk analisis lebih lanjut atau modeling dan menghemat waktu karena tidak perlu membersihkan data dari awal setiap kali ingin menggunakannya."
      ],
      "metadata": {
        "id": "Q_5ejIqckiSP"
      }
    },
    {
      "cell_type": "markdown",
      "metadata": {
        "id": "gp-Y6wU38DC1"
      },
      "source": [
        "## Exploratory Data Analysis (EDA)"
      ]
    },
    {
      "cell_type": "markdown",
      "metadata": {
        "id": "MW7WF2kr8DC1"
      },
      "source": [
        "### Explore ..."
      ]
    },
    {
      "cell_type": "markdown",
      "source": [
        "Explore day_df"
      ],
      "metadata": {
        "id": "tZH_DpKMA7_R"
      }
    },
    {
      "cell_type": "code",
      "source": [
        "# Menyimpan hasil cleaning ke variabel baru\n",
        "day_df_clean = day_df.copy()\n",
        "\n",
        "# Menampilkan sampel data harian\n",
        "print(\"\\n Sample Data Harian:\")\n",
        "print(day_df_clean.sample(5))"
      ],
      "metadata": {
        "colab": {
          "base_uri": "https://localhost:8080/"
        },
        "id": "aQrRTBbABCVC",
        "outputId": "169e0236-e246-4c1f-b828-aba4a13bd7df"
      },
      "execution_count": 120,
      "outputs": [
        {
          "output_type": "stream",
          "name": "stdout",
          "text": [
            "\n",
            " Sample Data Harian:\n",
            "        dteday season  yr  mnth  holiday  weekday  workingday weathersit  \\\n",
            "203 2011-07-23      3   0     7        0        6           0          1   \n",
            "361 2011-12-28      1   0    12        0        3           1          1   \n",
            "536 2012-06-20      2   1     6        0        3           1          1   \n",
            "700 2012-12-01      4   1    12        0        6           0          2   \n",
            "5   2011-01-06      1   0     1        0        4           1          1   \n",
            "\n",
            "         temp     atemp       hum  windspeed  casual  registered   cnt  \n",
            "203  0.849167  0.804287  0.500000   0.131221     987        2298  3285  \n",
            "361  0.299130  0.279974  0.503913   0.293961     255        2047  2302  \n",
            "536  0.782500  0.720975  0.592083   0.113812     872        5339  6211  \n",
            "700  0.298333  0.316904  0.806667   0.059704     951        4240  5191  \n",
            "5    0.204348  0.233209  0.518261   0.089565      88        1518  1606  \n"
          ]
        }
      ]
    },
    {
      "cell_type": "code",
      "source": [
        "# Menampilkan statistik deskriptif data harian\n",
        "print(\"\\n Statistik Deskriptif Data Harian:\")\n",
        "print(day_df_clean.describe(include=\"all\"))"
      ],
      "metadata": {
        "colab": {
          "base_uri": "https://localhost:8080/"
        },
        "id": "yhJZnDGFBOWK",
        "outputId": "032e24f0-c190-4f0e-967d-790a8e8e5907"
      },
      "execution_count": 121,
      "outputs": [
        {
          "output_type": "stream",
          "name": "stdout",
          "text": [
            "\n",
            " Statistik Deskriptif Data Harian:\n",
            "                               dteday  season          yr        mnth  \\\n",
            "count                             730   730.0  730.000000  730.000000   \n",
            "unique                            NaN     4.0         NaN         NaN   \n",
            "top                               NaN     3.0         NaN         NaN   \n",
            "freq                              NaN   188.0         NaN         NaN   \n",
            "mean    2012-01-01 09:45:51.780822016     NaN    0.501370    6.524658   \n",
            "min               2011-01-01 00:00:00     NaN    0.000000    1.000000   \n",
            "25%               2011-07-03 06:00:00     NaN    0.000000    4.000000   \n",
            "50%               2012-01-01 12:00:00     NaN    1.000000    7.000000   \n",
            "75%               2012-07-01 18:00:00     NaN    1.000000   10.000000   \n",
            "max               2012-12-31 00:00:00     NaN    1.000000   12.000000   \n",
            "std                               NaN     NaN    0.500341    3.451815   \n",
            "\n",
            "           holiday     weekday  workingday  weathersit        temp  \\\n",
            "count   730.000000  730.000000  730.000000       730.0  730.000000   \n",
            "unique         NaN         NaN         NaN         3.0         NaN   \n",
            "top            NaN         NaN         NaN         1.0         NaN   \n",
            "freq           NaN         NaN         NaN       463.0         NaN   \n",
            "mean      0.028767    2.995890    0.683562         NaN    0.495530   \n",
            "min       0.000000    0.000000    0.000000         NaN    0.059130   \n",
            "25%       0.000000    1.000000    0.000000         NaN    0.336875   \n",
            "50%       0.000000    3.000000    1.000000         NaN    0.499167   \n",
            "75%       0.000000    5.000000    1.000000         NaN    0.655625   \n",
            "max       1.000000    6.000000    1.000000         NaN    0.861667   \n",
            "std       0.167266    2.005817    0.465405         NaN    0.183134   \n",
            "\n",
            "             atemp         hum   windspeed       casual   registered  \\\n",
            "count   730.000000  730.000000  730.000000   730.000000   730.000000   \n",
            "unique         NaN         NaN         NaN          NaN          NaN   \n",
            "top            NaN         NaN         NaN          NaN          NaN   \n",
            "freq           NaN         NaN         NaN          NaN          NaN   \n",
            "mean      0.474475    0.628754    0.190388   849.275342  3660.390411   \n",
            "min       0.079070    0.187917    0.022392     2.000000    20.000000   \n",
            "25%       0.337794    0.520521    0.134950   316.250000  2502.250000   \n",
            "50%       0.487364    0.627083    0.180971   717.000000  3664.500000   \n",
            "75%       0.608916    0.730313    0.233207  1096.500000  4783.250000   \n",
            "max       0.840896    0.972500    0.507463  3410.000000  6946.000000   \n",
            "std       0.163040    0.140614    0.077506   686.449738  1557.149836   \n",
            "\n",
            "                cnt  \n",
            "count    730.000000  \n",
            "unique          NaN  \n",
            "top             NaN  \n",
            "freq            NaN  \n",
            "mean    4509.665753  \n",
            "min       22.000000  \n",
            "25%     3169.750000  \n",
            "50%     4548.500000  \n",
            "75%     5966.000000  \n",
            "max     8714.000000  \n",
            "std     1933.194931  \n"
          ]
        }
      ]
    },
    {
      "cell_type": "code",
      "source": [
        "# Analisis jumlah penyewaan berdasarkan musim\n",
        "print(\"\\n Rata-rata Penyewaan Sepeda Berdasarkan Musim (Harian):\")\n",
        "print(day_df_clean.groupby(\"season\", observed=True)[\"cnt\"].agg([\"count\", \"mean\", \"max\", \"min\"]))"
      ],
      "metadata": {
        "colab": {
          "base_uri": "https://localhost:8080/"
        },
        "id": "Wn8lcLQYBTSP",
        "outputId": "3feacf16-611a-41ae-b31b-05577cb8824a"
      },
      "execution_count": 122,
      "outputs": [
        {
          "output_type": "stream",
          "name": "stdout",
          "text": [
            "\n",
            " Rata-rata Penyewaan Sepeda Berdasarkan Musim (Harian):\n",
            "        count         mean   max   min\n",
            "season                                \n",
            "1         180  2615.138889  7836   431\n",
            "2         184  4992.331522  8362   795\n",
            "3         188  5644.303191  8714  1115\n",
            "4         178  4728.162921  8555    22\n"
          ]
        }
      ]
    },
    {
      "cell_type": "code",
      "execution_count": 123,
      "metadata": {
        "id": "e9CQCZjk8DC2",
        "colab": {
          "base_uri": "https://localhost:8080/"
        },
        "outputId": "616b5190-f8e5-474e-9296-d011e36ef0e3"
      },
      "outputs": [
        {
          "output_type": "stream",
          "name": "stdout",
          "text": [
            "\n",
            " Perbandingan Penyewaan Sepeda pada Hari Kerja vs Akhir Pekan (Harian):\n",
            "            count         mean   max  min\n",
            "workingday                               \n",
            "0             231  4330.168831  8714  605\n",
            "1             499  4592.759519  8362   22\n"
          ]
        }
      ],
      "source": [
        "# Analisis jumlah penyewaan berdasarkan hari kerja vs akhir pekan\n",
        "print(\"\\n Perbandingan Penyewaan Sepeda pada Hari Kerja vs Akhir Pekan (Harian):\")\n",
        "print(day_df_clean.groupby(\"workingday\")[\"cnt\"].agg([\"count\", \"mean\", \"max\", \"min\"]))"
      ]
    },
    {
      "cell_type": "markdown",
      "source": [
        "**Insight Explore tabel day_df**\n",
        "\n",
        "*1. Sampel Data Harian*\n",
        "Dataset berisi informasi mengenai jumlah penyewaan sepeda berdasarkan faktor-faktor seperti tanggal, musim, hari kerja, cuaca, suhu, dan kecepatan angin. Berikut adalah contoh 5 sampel data dari dataset:\n",
        "\n",
        "- Data mencakup berbagai musim dan kondisi cuaca.\n",
        "- Rentang temperatur berkisar antara 0.21 hingga 0.71.\n",
        "- Kecepatan angin bervariasi dari 0.08 hingga 0.16.\n",
        "- Penyewaan sepeda harian tertinggi dalam sampel adalah **7.446** dan terendah **1.708**.\n",
        "\n",
        "\n",
        "*2. Statistik Deskriptif Data Harian*\n",
        "Dari statistik deskriptif dataset, kita bisa melihat beberapa poin penting:\n",
        "\n",
        "- **Total Data**: 730 baris (setelah cleaning)\n",
        "- **Rentang Waktu**: 1 Januari 2011 - 31 Desember 2012\n",
        "- **Rata-rata Penyewaan Sepeda**: **4.509 sepeda per hari**\n",
        "- **Jumlah Penyewa Tertinggi**: **8.714 sepeda dalam sehari**\n",
        "- **Jumlah Penyewa Terendah**: **22 sepeda dalam sehari**\n",
        "- **Rata-rata Suhu**: **0.49 (dikategorikan dalam skala 0-1)**\n",
        "\n",
        "Tidak ada **missing values** atau duplikasi dalam dataset setelah proses pembersihan.\n",
        "\n",
        "\n",
        "*3. Rata-rata Penyewaan Sepeda Berdasarkan Musim***\n",
        "Jika dibandingkan berdasarkan musim, tren penyewaan sepeda menunjukkan pola berikut:\n",
        "\n",
        "| Musim | Rata-rata Penyewaan | Maksimum | Minimum |\n",
        "|--------|----------------------|----------|----------|\n",
        "| Musim Dingin (1) | **2.615** | 7.836 | 431 |\n",
        "| Musim Semi (2)  | **4.992** | 8.362 | 795 |\n",
        "| Musim Panas (3) | **5.644** | 8.714 | 1.115 |\n",
        "| Musim Gugur (4) | **4.728** | 8.555 | 22 |\n",
        "\n",
        "- Penyewaan tertinggi terjadi di **musim panas** dengan rata-rata **5.644 sepeda/hari**.\n",
        "- Penyewaan terendah terjadi di **musim dingin** dengan rata-rata **2.615 sepeda/hari**.\n",
        "- Musim gugur juga menunjukkan angka penyewaan yang cukup tinggi, sedangkan musim semi berada di tengah.\n",
        "\n",
        "*4. Perbandingan Penyewaan Sepeda pada Hari Kerja vs Akhir Pekan*\n",
        "\n",
        "| Hari Kerja | Rata-rata Penyewaan | Maksimum | Minimum |\n",
        "|------------|----------------------|----------|----------|\n",
        "| Akhir Pekan (0)  | **4.330** | 8.714 | 605 |\n",
        "| Hari Kerja (1)  | **4.592** | 8.362 | 22 |\n",
        "\n",
        "- **Penyewaan sepeda pada hari kerja lebih tinggi (4.592 sepeda/hari) dibandingkan akhir pekan (4.330 sepeda/hari)**.\n",
        "- Ini menunjukkan bahwa banyak pengguna sepeda menggunakan layanan ini untuk bekerja atau aktivitas rutin.\n",
        "- Pada akhir pekan, meskipun lebih sedikit dibandingkan hari kerja, jumlahnya masih cukup signifikan, menunjukkan adanya penggunaan rekreasi."
      ],
      "metadata": {
        "id": "bFRyUFK1SW0n"
      }
    },
    {
      "cell_type": "markdown",
      "source": [
        "Explore tabel hour_df"
      ],
      "metadata": {
        "id": "dE8x6vXpDG6G"
      }
    },
    {
      "cell_type": "code",
      "source": [
        "# Menyimpan hasil cleaning ke variabel baru\n",
        "hour_df_clean = hour_df.copy()\n",
        "\n",
        "# Menampilkan sampel data per jam\n",
        "print(\"\\n Sample Data Per Jam:\")\n",
        "print(hour_df_clean.sample(5))"
      ],
      "metadata": {
        "colab": {
          "base_uri": "https://localhost:8080/"
        },
        "id": "2YOPGAmVDOhh",
        "outputId": "bc820e3c-577d-49fc-bf12-b0d03e1915f9"
      },
      "execution_count": 124,
      "outputs": [
        {
          "output_type": "stream",
          "name": "stdout",
          "text": [
            "\n",
            " Sample Data Per Jam:\n",
            "          dteday season  yr  mnth  hr  holiday  weekday  workingday  \\\n",
            "10489 2012-03-18      1   1     3   4        0        0           0   \n",
            "7787  2011-11-26      4   0    11   2        0        6           0   \n",
            "11170 2012-04-15      2   1     4  15        0        0           0   \n",
            "3548  2011-06-01      2   0     6  18        0        3           1   \n",
            "3662  2011-06-06      2   0     6  12        0        1           1   \n",
            "\n",
            "      weathersit  temp   atemp   hum  windspeed  casual  registered  cnt  \n",
            "10489          2  0.42  0.4242  0.94     0.1642       6           8   14  \n",
            "7787           1  0.30  0.3182  0.81     0.1045       3          20   23  \n",
            "11170          1  0.70  0.6364  0.39     0.3881     266         351  617  \n",
            "3548           3  0.82  0.7879  0.56     0.3881      31         278  309  \n",
            "3662           1  0.76  0.6667  0.37     0.1642      25         128  153  \n"
          ]
        }
      ]
    },
    {
      "cell_type": "code",
      "source": [
        "# Menampilkan statistik deskriptif data per jam\n",
        "print(\"\\n Statistik Deskriptif Data Per Jam:\")\n",
        "print(hour_df_clean.describe(include=\"all\"))"
      ],
      "metadata": {
        "colab": {
          "base_uri": "https://localhost:8080/"
        },
        "id": "5xcAxM-mDTlZ",
        "outputId": "fb685af3-1a68-4778-bc02-6ab2606b1d9b"
      },
      "execution_count": 125,
      "outputs": [
        {
          "output_type": "stream",
          "name": "stdout",
          "text": [
            "\n",
            " Statistik Deskriptif Data Per Jam:\n",
            "                               dteday   season            yr          mnth  \\\n",
            "count                           15177  15177.0  15177.000000  15177.000000   \n",
            "unique                            NaN      4.0           NaN           NaN   \n",
            "top                               NaN      2.0           NaN           NaN   \n",
            "freq                              NaN   4012.0           NaN           NaN   \n",
            "mean    2011-12-30 22:05:40.146273792      NaN      0.504777      6.436055   \n",
            "min               2011-01-01 00:00:00      NaN      0.000000      1.000000   \n",
            "25%               2011-06-29 00:00:00      NaN      0.000000      3.000000   \n",
            "50%               2012-01-04 00:00:00      NaN      1.000000      6.000000   \n",
            "75%               2012-06-27 00:00:00      NaN      1.000000      9.000000   \n",
            "max               2012-12-31 00:00:00      NaN      1.000000     12.000000   \n",
            "std                               NaN      NaN      0.499994      3.429693   \n",
            "\n",
            "                  hr       holiday       weekday    workingday  weathersit  \\\n",
            "count   15177.000000  15177.000000  15177.000000  15177.000000     15177.0   \n",
            "unique           NaN           NaN           NaN           NaN         4.0   \n",
            "top              NaN           NaN           NaN           NaN         1.0   \n",
            "freq             NaN           NaN           NaN           NaN      9920.0   \n",
            "mean       11.760625      0.028398      3.003822      0.680372         NaN   \n",
            "min         0.000000      0.000000      0.000000      0.000000         NaN   \n",
            "25%         6.000000      0.000000      1.000000      0.000000         NaN   \n",
            "50%        12.000000      0.000000      3.000000      1.000000         NaN   \n",
            "75%        18.000000      0.000000      5.000000      1.000000         NaN   \n",
            "max        23.000000      1.000000      6.000000      1.000000         NaN   \n",
            "std         6.854613      0.166113      2.010872      0.466348         NaN   \n",
            "\n",
            "                temp         atemp           hum     windspeed        casual  \\\n",
            "count   15177.000000  15177.000000  15177.000000  15177.000000  15177.000000   \n",
            "unique           NaN           NaN           NaN           NaN           NaN   \n",
            "top              NaN           NaN           NaN           NaN           NaN   \n",
            "freq             NaN           NaN           NaN           NaN           NaN   \n",
            "mean        0.498201      0.475103      0.620226      0.217299     36.676089   \n",
            "min         0.020000      0.000000      0.080000      0.089600      0.000000   \n",
            "25%         0.340000      0.333300      0.470000      0.134300      4.000000   \n",
            "50%         0.500000      0.484800      0.620000      0.194000     18.000000   \n",
            "75%         0.660000      0.621200      0.780000      0.283600     50.000000   \n",
            "max         1.000000      1.000000      1.000000      0.850700    362.000000   \n",
            "std         0.193066      0.174562      0.191011      0.105767     49.887988   \n",
            "\n",
            "          registered           cnt  \n",
            "count   15177.000000  15177.000000  \n",
            "unique           NaN           NaN  \n",
            "top              NaN           NaN  \n",
            "freq             NaN           NaN  \n",
            "mean      157.160177    193.836265  \n",
            "min         0.000000      1.000000  \n",
            "25%        38.000000     44.000000  \n",
            "50%       119.000000    147.000000  \n",
            "75%       224.000000    285.000000  \n",
            "max       886.000000    977.000000  \n",
            "std       152.144586    182.541354  \n"
          ]
        }
      ]
    },
    {
      "cell_type": "code",
      "source": [
        "# Analisis jumlah penyewaan berdasarkan musim\n",
        "print(\"\\n Rata-rata Penyewaan Sepeda Berdasarkan Musim (Per Jam):\")\n",
        "print(hour_df_clean.groupby(\"season\", observed=True)[\"cnt\"].agg([\"count\", \"mean\", \"max\", \"min\"]))"
      ],
      "metadata": {
        "colab": {
          "base_uri": "https://localhost:8080/"
        },
        "id": "M07hpAVzDWz5",
        "outputId": "dfad6804-5c75-43da-a84b-8630e50b726b"
      },
      "execution_count": 126,
      "outputs": [
        {
          "output_type": "stream",
          "name": "stdout",
          "text": [
            "\n",
            " Rata-rata Penyewaan Sepeda Berdasarkan Musim (Per Jam):\n",
            "        count        mean  max  min\n",
            "season                             \n",
            "1        3783  113.227333  801    1\n",
            "2        4012  209.867896  957    1\n",
            "3        3863  244.216412  977    1\n",
            "4        3519  206.909918  967    1\n"
          ]
        }
      ]
    },
    {
      "cell_type": "code",
      "source": [
        "# Analisis jumlah penyewaan berdasarkan hari kerja vs akhir pekan\n",
        "print(\"\\n Perbandingan Penyewaan Sepeda pada Hari Kerja vs Akhir Pekan (Per Jam):\")\n",
        "print(hour_df_clean.groupby(\"workingday\")[\"cnt\"].agg([\"count\", \"mean\", \"max\", \"min\"]))"
      ],
      "metadata": {
        "colab": {
          "base_uri": "https://localhost:8080/"
        },
        "id": "Xl8X99ZMDZYK",
        "outputId": "38eb68b7-84f1-4302-95d0-1d412e3eb0e6"
      },
      "execution_count": 127,
      "outputs": [
        {
          "output_type": "stream",
          "name": "stdout",
          "text": [
            "\n",
            " Perbandingan Penyewaan Sepeda pada Hari Kerja vs Akhir Pekan (Per Jam):\n",
            "            count        mean  max  min\n",
            "workingday                             \n",
            "0            4851  184.670583  783    1\n",
            "1           10326  198.142165  977    1\n"
          ]
        }
      ]
    },
    {
      "cell_type": "code",
      "source": [
        "# Analisis jumlah penyewaan berdasarkan jam dalam sehari\n",
        "print(\"\\n Jumlah Penyewaan Sepeda Berdasarkan Jam dalam Sehari:\")\n",
        "print(hour_df_clean.groupby(\"season\", observed=True)[\"cnt\"].agg([\"count\", \"mean\", \"max\", \"min\"]))"
      ],
      "metadata": {
        "colab": {
          "base_uri": "https://localhost:8080/"
        },
        "id": "9uvtOeFl6krM",
        "outputId": "0c7577ef-e35c-4c9e-f8f2-043c670378b3"
      },
      "execution_count": 128,
      "outputs": [
        {
          "output_type": "stream",
          "name": "stdout",
          "text": [
            "\n",
            " Jumlah Penyewaan Sepeda Berdasarkan Jam dalam Sehari:\n",
            "        count        mean  max  min\n",
            "season                             \n",
            "1        3783  113.227333  801    1\n",
            "2        4012  209.867896  957    1\n",
            "3        3863  244.216412  977    1\n",
            "4        3519  206.909918  967    1\n"
          ]
        }
      ]
    },
    {
      "cell_type": "markdown",
      "source": [
        "**Insight Explore Tabel hour_df**  \n",
        "\n",
        "*1. Sample Data Per Jam*<br>\n",
        "Dataset ini berisi data penyewaan sepeda berdasarkan jam. Berikut adalah contoh 5 sampel data:  \n",
        "- Data mencakup informasi seperti musim (season), tahun (yr), bulan (mnth), jam (hr), kondisi cuaca (weathersit), suhu (temp), kelembaban (hum), kecepatan angin (windspeed), serta jumlah pengguna casual, terdaftar (registered), dan total penyewa (cnt).  \n",
        "\n",
        "*2. Statistik Deskriptif Data Per Jam*\n",
        "- Dataset terdiri dari **15.177 baris** dengan variabel seperti tanggal, musim, hari libur, dan jam.  \n",
        "- Rata-rata suhu tercatat **0.49 (skala 0-1)**, sedangkan rata-rata kelembaban **0.62**.  \n",
        "- Nilai minimum jumlah penyewa sepeda dalam satu jam adalah **1 penyewa**, sedangkan maksimum adalah **977 penyewa**.  \n",
        "\n",
        "*3. Penyewaan Sepeda Berdasarkan Musim*\n",
        "- Penyewaan sepeda tertinggi terjadi pada musim panas (**mean: 244 penyewa/jam**).  \n",
        "- Musim dengan penyewaan sepeda terendah adalah musim dingin (**mean: 113 penyewa/jam**).  \n",
        "\n",
        "*4. Perbandingan Hari Kerja vs Akhir Pekan*\n",
        "- Hari kerja memiliki rata-rata penyewaan lebih tinggi (**198 penyewa/jam**) dibanding akhir pekan (**184 penyewa/jam**).  \n",
        "- Ini menunjukkan tren penggunaan sepeda untuk aktivitas rutin seperti bekerja atau sekolah.  \n",
        "\n",
        "*5. Tren Penyewaan Sepeda Berdasarkan Jam*\n",
        "- Penyewaan sepeda cenderung meningkat pada jam-jam tertentu dalam sehari.  \n",
        "- Pola ini dapat digunakan untuk memahami kapan permintaan sepeda paling tinggi dan mengoptimalkan ketersediaan sepeda pada jam sibuk.  \n"
      ],
      "metadata": {
        "id": "bUmR0QRjTAeA"
      }
    },
    {
      "cell_type": "markdown",
      "source": [
        "Explore All Data"
      ],
      "metadata": {
        "id": "4oQBk825EqR1"
      }
    },
    {
      "cell_type": "code",
      "source": [
        "# Gabungkan data berdasarkan 'dteday'\n",
        "all_df = pd.merge(\n",
        "    left=hour_df_clean,\n",
        "    right=day_df_clean,\n",
        "    how=\"left\",\n",
        "    on=[\"dteday\", \"season\", \"yr\", \"mnth\", \"holiday\", \"weekday\", \"workingday\", \"weathersit\", \"temp\", \"atemp\", \"hum\", \"windspeed\"]\n",
        ")"
      ],
      "metadata": {
        "id": "j-Y8iI9FEt8q"
      },
      "execution_count": 129,
      "outputs": []
    },
    {
      "cell_type": "code",
      "source": [
        "# Menampilkan 5 data pertama\n",
        "print(\"\\n Data Gabungan (All Data):\")\n",
        "print(all_df.head())"
      ],
      "metadata": {
        "colab": {
          "base_uri": "https://localhost:8080/"
        },
        "id": "OOHN9p0VExCj",
        "outputId": "dbe5f83e-1539-4f5f-b937-abc3c00206b5"
      },
      "execution_count": 130,
      "outputs": [
        {
          "output_type": "stream",
          "name": "stdout",
          "text": [
            "\n",
            " Data Gabungan (All Data):\n",
            "      dteday season  yr  mnth  hr  holiday  weekday  workingday  weathersit  \\\n",
            "0 2011-01-01      1   0     1   5        0        6           0           2   \n",
            "1 2011-01-01      1   0     1  10        0        6           0           1   \n",
            "2 2011-01-01      1   0     1  11        0        6           0           1   \n",
            "3 2011-01-01      1   0     1  12        0        6           0           1   \n",
            "4 2011-01-01      1   0     1  13        0        6           0           2   \n",
            "\n",
            "   temp   atemp   hum  windspeed  casual_x  registered_x  cnt_x  casual_y  \\\n",
            "0  0.24  0.2576  0.75     0.0896         0             1      1       NaN   \n",
            "1  0.38  0.3939  0.76     0.2537        12            24     36       NaN   \n",
            "2  0.36  0.3333  0.81     0.2836        26            30     56       NaN   \n",
            "3  0.42  0.4242  0.77     0.2836        29            55     84       NaN   \n",
            "4  0.46  0.4545  0.72     0.2985        47            47     94       NaN   \n",
            "\n",
            "   registered_y  cnt_y  \n",
            "0           NaN    NaN  \n",
            "1           NaN    NaN  \n",
            "2           NaN    NaN  \n",
            "3           NaN    NaN  \n",
            "4           NaN    NaN  \n"
          ]
        }
      ]
    },
    {
      "cell_type": "code",
      "source": [
        "# Analisis total penyewaan sepeda berdasarkan musim dan tipe hari (hari kerja vs akhir pekan)\n",
        "season_workingday_analysis = all_df.groupby(by=[\"season\", \"workingday\"], observed=True).agg({\n",
        "    \"cnt_x\": \"sum\"\n",
        "}).reset_index()\n",
        "print(\"\\n Penyewaan Sepeda Berdasarkan Musim dan Hari Kerja:\")\n",
        "print(season_workingday_analysis)"
      ],
      "metadata": {
        "colab": {
          "base_uri": "https://localhost:8080/"
        },
        "id": "4W1Lu69nEy-P",
        "outputId": "7adc13fb-bcc5-48be-b092-70a7cab6445b"
      },
      "execution_count": 131,
      "outputs": [
        {
          "output_type": "stream",
          "name": "stdout",
          "text": [
            "\n",
            " Penyewaan Sepeda Berdasarkan Musim dan Hari Kerja:\n",
            "  season  workingday   cnt_x\n",
            "0      1           0  127912\n",
            "1      1           1  300427\n",
            "2      2           0  262373\n",
            "3      2           1  579617\n",
            "4      3           0  280556\n",
            "5      3           1  662852\n",
            "6      4           0  224996\n",
            "7      4           1  503120\n"
          ]
        }
      ]
    },
    {
      "cell_type": "code",
      "source": [
        "# Penyewaan sepeda berdasarkan jam dalam sehari\n",
        "hourly_usage = all_df.groupby(\"hr\").agg({\n",
        "    \"cnt_x\": [\"mean\", \"sum\"]\n",
        "}).reset_index()\n",
        "print(\"\\n Penyewaan Sepeda Berdasarkan Jam:\")\n",
        "print(hourly_usage)"
      ],
      "metadata": {
        "colab": {
          "base_uri": "https://localhost:8080/"
        },
        "id": "YE2aVwvqE0kB",
        "outputId": "d2bc8958-2718-435a-d820-bc28bd288639"
      },
      "execution_count": 132,
      "outputs": [
        {
          "output_type": "stream",
          "name": "stdout",
          "text": [
            "\n",
            " Penyewaan Sepeda Berdasarkan Jam:\n",
            "    hr       cnt_x        \n",
            "              mean     sum\n",
            "0    0   54.124590   33016\n",
            "1    1   33.569052   20175\n",
            "2    2   23.178819   13351\n",
            "3    3   11.867958    6741\n",
            "4    4    6.223549    3647\n",
            "5    5   19.387205   11516\n",
            "6    6   76.167763   46310\n",
            "7    7  210.565640  129919\n",
            "8    8  357.073836  222457\n",
            "9    9  216.847512  135096\n",
            "10  10  172.060842  110291\n",
            "11  11  206.943511  135548\n",
            "12  12  251.520312  160973\n",
            "13  13  251.758089  163391\n",
            "14  14  240.034328  160823\n",
            "15  15  252.027439  165330\n",
            "16  16  312.924332  210911\n",
            "17  17  460.685544  309120\n",
            "18  18  426.174927  292356\n",
            "19  19  314.682493  212096\n",
            "20  20  227.727820  151439\n",
            "21  21  173.910937  111303\n",
            "22  22  130.761600   81726\n",
            "23  23   86.908800   54318\n"
          ]
        }
      ]
    },
    {
      "cell_type": "code",
      "source": [
        "# Total pesanan unik dan pendapatan berdasarkan musim\n",
        "season_summary = all_df.groupby(\"season\", observed=True).agg({\n",
        "    \"dteday\": \"nunique\",\n",
        "    \"cnt_x\": \"sum\"\n",
        "}).sort_values(by=\"cnt_x\", ascending=False)\n",
        "print(\"\\n Ringkasan Penyewaan Sepeda Berdasarkan Musim:\")\n",
        "print(season_summary)"
      ],
      "metadata": {
        "colab": {
          "base_uri": "https://localhost:8080/"
        },
        "id": "kDPYJ8z8-aKQ",
        "outputId": "74aadba8-b477-446e-bec3-85717876afcb"
      },
      "execution_count": 133,
      "outputs": [
        {
          "output_type": "stream",
          "name": "stdout",
          "text": [
            "\n",
            " Ringkasan Penyewaan Sepeda Berdasarkan Musim:\n",
            "        dteday   cnt_x\n",
            "season                \n",
            "3          188  943408\n",
            "2          184  841990\n",
            "4          178  728116\n",
            "1          180  428339\n"
          ]
        }
      ]
    },
    {
      "cell_type": "markdown",
      "source": [
        "**Insight dari Data Gabungan Penyewaan Sepeda**\n",
        "\n",
        "*1. Data Gabungan (All Data)*\n",
        "- Data telah berhasil digabungkan dari dataset harian dan per jam.\n",
        "- Dataset ini mencakup informasi tentang tanggal, musim, jam, cuaca, suhu, kelembaban, kecepatan angin, serta jumlah penyewaan sepeda.\n",
        "- Beberapa kolom (`casual_y`, `registered_y`, `cnt_y`) memiliki **nilai NaN**, yang menunjukkan bahwa mereka berasal dari dataset lain yang mungkin tidak sesuai saat penggabungan.\n",
        "\n",
        "*2.Penyewaan Sepeda Berdasarkan Musim dan Hari Kerja*\n",
        "- Penyewaan sepeda lebih tinggi pada **hari kerja** dibandingkan hari libur.\n",
        "- Musim dengan penyewaan sepeda tertinggi:\n",
        "  - **Musim panas (season 3)**: **943,408** penyewaan.\n",
        "  - **Musim semi (season 2)**: **841,990** penyewaan.\n",
        "  - **Musim gugur (season 4)**: **728,116** penyewaan.\n",
        "  - **Musim dingin (season 1)** memiliki jumlah penyewaan terendah (**428,339**).\n",
        "  - Musim panas dan semi adalah waktu paling populer untuk menyewa sepeda, sedangkan musim dingin memiliki penyewaan paling sedikit.\n",
        "\n",
        "*3. Penyewaan Sepeda Berdasarkan Jam*\n",
        "- **Jam sibuk penyewaan sepeda**:\n",
        "  - Puncak pagi: **08:00 - 09:00** (**357 - 222 ribu penyewaan**).\n",
        "  - Puncak sore: **17:00 - 18:00** (**460 - 426 ribu penyewaan**).\n",
        "- Penyewaan paling sedikit terjadi antara **03:00 - 05:00**, kemungkinan karena sedikitnya aktivitas pengguna pada waktu tersebut.\n",
        "- Pola ini menunjukkan penggunaan sepeda lebih tinggi saat jam kerja (berangkat & pulang kerja).\n",
        "\n",
        "*4. Kesimpulan Akhir*\n",
        "- **Musim panas dan semi** memiliki tingkat penyewaan tertinggi.  \n",
        "- **Jam sibuk** untuk penyewaan sepeda terjadi pada **pagi dan sore hari**, sesuai dengan jadwal kerja masyarakat.  \n",
        "- **Hari kerja memiliki lebih banyak penyewaan dibandingkan hari libur**, menunjukkan bahwa sepeda digunakan sebagai alat transportasi utama.  "
      ],
      "metadata": {
        "id": "th_Lzl2Fkj9O"
      }
    },
    {
      "cell_type": "markdown",
      "metadata": {
        "id": "zsyZjqak8DC2"
      },
      "source": [
        "## Visualization & Explanatory Analysis"
      ]
    },
    {
      "cell_type": "markdown",
      "metadata": {
        "id": "HZxOiQ6n8DC2"
      },
      "source": [
        "### Pertanyaan 1: Bagaimana pengaruh musim terhadap jumlah penyewaan sepeda?\n"
      ]
    },
    {
      "cell_type": "code",
      "execution_count": 134,
      "metadata": {
        "id": "1swJUdAD8DC2",
        "colab": {
          "base_uri": "https://localhost:8080/",
          "height": 584
        },
        "outputId": "a3085914-3ab2-4f18-9168-ed4f03883e8b"
      },
      "outputs": [
        {
          "output_type": "stream",
          "name": "stdout",
          "text": [
            "  season  total_rentals\n",
            "0      1         428339\n",
            "1      2         841990\n",
            "2      3         943408\n",
            "3      4         728116\n"
          ]
        },
        {
          "output_type": "display_data",
          "data": {
            "text/plain": [
              "<Figure size 800x500 with 1 Axes>"
            ],
            "image/png": "[encoded data removed]"
          },
          "metadata": {}
        }
      ],
      "source": [
        "season_df = all_df.groupby(\"season\", observed=True)[\"cnt_x\"].sum().reset_index()\n",
        "\n",
        "# Agregasi jumlah penyewaan berdasarkan musim\n",
        "season_df = all_df.groupby(\"season\", observed=True).agg({\n",
        "    \"cnt_x\": \"sum\"\n",
        "}).reset_index()\n",
        "\n",
        "# Ubah nama kolom agar lebih mudah dipahami\n",
        "season_df.rename(columns={\"cnt_x\": \"total_rentals\"}, inplace=True)\n",
        "\n",
        "# Cek hasil agregasi\n",
        "print(season_df.head())\n",
        "\n",
        "# Membuat bar chart\n",
        "plt.figure(figsize=(8,5))\n",
        "sns.barplot(data=season_df, x=\"season\", y=\"total_rentals\", hue=\"season\", palette=\"viridis\")\n",
        "\n",
        "plt.title(\"Pengaruh Musim terhadap Penyewaan Sepeda\", fontsize=14)\n",
        "plt.xlabel(\"Musim\")\n",
        "plt.ylabel(\"Jumlah Penyewaan Sepeda\")\n",
        "plt.xticks(ticks=[0,1,2,3], labels=[\"Spring\", \"Summer\", \"Fall\", \"Winter\"])\n",
        "plt.legend(title=\"Musim\")\n",
        "plt.show()"
      ]
    },
    {
      "cell_type": "markdown",
      "source": [
        "**Insight:**\n",
        "- Jika jumlah penyewaan tertinggi terjadi pada musim panas atau gugur, ini menunjukkan bahwa orang lebih sering menggunakan sepeda saat cuaca lebih bersahabat.\n",
        "- Jika jumlah penyewaan turun di musim dingin, bisa jadi karena kondisi cuaca yang kurang mendukung, seperti hujan atau salju.\n",
        "- Informasi ini dapat membantu dalam strategi bisnis, seperti meningkatkan promosi penyewaan pada musim ramai atau menyediakan lebih banyak sepeda saat permintaan tinggi."
      ],
      "metadata": {
        "id": "fCan76STUJ8P"
      }
    },
    {
      "cell_type": "markdown",
      "metadata": {
        "id": "DgHI7CiU8DC2"
      },
      "source": [
        "### Pertanyaan 2: Bagaimana tren penggunaan sepeda pada hari kerja dibandingkan akhir pekan?"
      ]
    },
    {
      "cell_type": "code",
      "execution_count": 135,
      "metadata": {
        "id": "Go0lCsvO8DC2",
        "colab": {
          "base_uri": "https://localhost:8080/",
          "height": 650
        },
        "outputId": "2e6e9a9b-7f6d-4f1f-a855-3d53f9537022"
      },
      "outputs": [
        {
          "output_type": "stream",
          "name": "stdout",
          "text": [
            "   workingday  total_rentals\n",
            "0           0         895837\n",
            "1           1        2046016\n"
          ]
        },
        {
          "output_type": "display_data",
          "data": {
            "text/plain": [
              "<Figure size 700x700 with 1 Axes>"
            ],
            "image/png": "[encoded data removed]"
          },
          "metadata": {}
        }
      ],
      "source": [
        "workingday_df = all_df.groupby(\"workingday\", observed=True)[\"cnt_x\"].sum().reset_index()\n",
        "\n",
        "# Agregasi jumlah penyewaan berdasarkan hari kerja vs akhir pekan\n",
        "workingday_df = all_df.groupby(\"workingday\", observed=True).agg({\n",
        "    \"cnt_x\": \"sum\"\n",
        "}).reset_index()\n",
        "\n",
        "# Ubah nama kolom agar lebih mudah dipahami\n",
        "workingday_df.rename(columns={\"cnt_x\": \"total_rentals\"}, inplace=True)\n",
        "\n",
        "# Cek hasil agregasi\n",
        "print(workingday_df.head())\n",
        "\n",
        "# Membuat pie chart dengan nama kolom yang benar\n",
        "plt.figure(figsize=(7,7))\n",
        "plt.pie(\n",
        "    workingday_df[\"total_rentals\"],  # Menggunakan 'total_rentals' yang sudah diubah namanya\n",
        "    labels=[\"Akhir Pekan\", \"Hari Kerja\"],\n",
        "    autopct=\"%1.1f%%\",\n",
        "    colors=[\"#FF9999\", \"#66B2FF\"],\n",
        "    startangle=90,\n",
        "    explode=[0.05, 0]\n",
        ")\n",
        "plt.title(\"Perbandingan Penyewaan Sepeda: Hari Kerja vs Akhir Pekan\")\n",
        "plt.show()"
      ]
    },
    {
      "cell_type": "markdown",
      "source": [
        "**Insight:**\n",
        "- Jika penyewaan lebih tinggi pada hari kerja, ini menunjukkan bahwa sepeda lebih sering digunakan untuk keperluan transportasi sehari-hari (misalnya berangkat kerja atau sekolah).\n",
        "- Jika penyewaan meningkat saat akhir pekan, kemungkinan besar sepeda digunakan untuk rekreasi atau aktivitas santai.\n",
        "- Informasi ini penting untuk perencanaan bisnis, seperti menyesuaikan jumlah sepeda yang tersedia berdasarkan tren penggunaan harian."
      ],
      "metadata": {
        "id": "Pl9KUJxTUXYO"
      }
    },
    {
      "cell_type": "markdown",
      "source": [
        "### Pertanyaan 3: Jam berapa jumlah penyewaan sepeda paling tinggi dalam sehari?"
      ],
      "metadata": {
        "id": "qaFE8AwJEfpj"
      }
    },
    {
      "cell_type": "code",
      "source": [
        "hourly_df = all_df.groupby(\"hr\")[\"cnt_x\"].mean().reset_index()\n",
        "\n",
        "# Agregasi jumlah penyewaan berdasarkan jam\n",
        "hourly_df = all_df.groupby(\"hr\").agg({\n",
        "    \"cnt_x\": [\"mean\", \"sum\"]\n",
        "}).reset_index()\n",
        "\n",
        "# Ubah nama kolom agar lebih mudah dipahami\n",
        "hourly_df.columns = [\"hour\", \"avg_rentals\", \"total_rentals\"]\n",
        "\n",
        "# Cek hasil agregasi\n",
        "print(hourly_df.head())\n",
        "\n",
        "# Membuat line chart\n",
        "plt.figure(figsize=(10,5))\n",
        "sns.lineplot(data=hourly_df, x=\"hour\", y=\"avg_rentals\", marker=\"o\", color=\"#72BCD4\", linewidth=2)\n",
        "\n",
        "plt.title(\"Rata-rata Penyewaan Sepeda Berdasarkan Jam dalam Sehari\", fontsize=14)\n",
        "plt.xlabel(\"Jam (24 Jam Format)\")\n",
        "plt.ylabel(\"Rata-rata Jumlah Penyewaan\")\n",
        "plt.xticks(range(0, 24, 1))\n",
        "plt.grid(axis=\"y\", linestyle=\"--\", alpha=0.7)\n",
        "plt.show()"
      ],
      "metadata": {
        "colab": {
          "base_uri": "https://localhost:8080/",
          "height": 601
        },
        "id": "ot3Nze_iE0wW",
        "outputId": "fa8401f9-c65e-4402-adcb-adbe2cca2030"
      },
      "execution_count": 136,
      "outputs": [
        {
          "output_type": "stream",
          "name": "stdout",
          "text": [
            "   hour  avg_rentals  total_rentals\n",
            "0     0    54.124590          33016\n",
            "1     1    33.569052          20175\n",
            "2     2    23.178819          13351\n",
            "3     3    11.867958           6741\n",
            "4     4     6.223549           3647\n"
          ]
        },
        {
          "output_type": "display_data",
          "data": {
            "text/plain": [
              "<Figure size 1000x500 with 1 Axes>"
            ],
            "image/png": "[encoded data removed]"
          },
          "metadata": {}
        }
      ]
    },
    {
      "cell_type": "markdown",
      "source": [
        "**Insight:**\n",
        "- Jika terlihat dua puncak utama di sekitar pagi (07:00 - 09:00) dan sore (17:00 - 19:00), ini menunjukkan bahwa sepeda lebih sering digunakan saat jam kerja (misalnya untuk perjalanan ke/dari kantor atau sekolah).\n",
        "- Jika puncak penyewaan lebih tinggi di siang atau malam hari, ini mungkin menunjukkan penggunaan rekreasional atau aktivitas santai.\n",
        "- Jam dengan penyewaan terendah bisa menjadi waktu ideal untuk perawatan atau pengisian ulang sepeda."
      ],
      "metadata": {
        "id": "_0-36BDLklRg"
      }
    },
    {
      "cell_type": "markdown",
      "source": [
        "## Analisis Lanjutan (Opsional)"
      ],
      "metadata": {
        "id": "9y4VUsmcYNZ5"
      }
    },
    {
      "cell_type": "code",
      "source": [],
      "metadata": {
        "id": "iWhnzsJGYUCO"
      },
      "execution_count": null,
      "outputs": []
    },
    {
      "cell_type": "markdown",
      "metadata": {
        "id": "_WeHlCeX8DC2"
      },
      "source": [
        "## Conclusion"
      ]
    },
    {
      "cell_type": "markdown",
      "metadata": {
        "id": "ZTcyR48Y8DC2"
      },
      "source": [
        "- Conclution pertanyaan 1 <br>Berdasarkan hasil, jumlah penyewaan sepeda bervariasi tergantung musim. Musim gugur memiliki jumlah penyewaan tertinggi, diikuti oleh musim panas, menunjukkan bahwa cuaca hangat mendorong lebih banyak orang untuk bersepeda. Sebaliknya, musim dingin memiliki jumlah penyewaan yang lebih rendah, kemungkinan karena suhu yang dingin membuat orang enggan bersepeda. Musim semi memiliki jumlah penyewaan terendah, yang mungkin disebabkan oleh cuaca yang lebih tidak stabil. Hal ini menunjukkan bahwa faktor musim sangat memengaruhi kebiasaan bersepeda masyarakat.<br><br>\n",
        "\n",
        "- Conclution pertanyaan 2 <br> Dari hasil, terlihat bahwa penyewaan sepeda lebih banyak terjadi pada hari kerja dibandingkan akhir pekan. Sekitar 67,7% penyewaan terjadi pada hari kerja, sementara hanya 32,3% pada akhir pekan. Hal ini mengindikasikan bahwa sepeda lebih sering digunakan sebagai alat transportasi utama untuk bekerja atau bersekolah, bukan hanya untuk rekreasi. Dengan kata lain, tren penggunaan sepeda menunjukkan bahwa banyak orang memanfaatkan layanan ini untuk kebutuhan mobilitas sehari-hari. <br><br>\n",
        "\n",
        "- Conclution pertanyaan 3 <br> Hasil terhadap pola penyewaan per jam menunjukkan bahwa jumlah penyewaan sepeda mencapai puncaknya pada pukul 08.00 pagi dan antara pukul 17.00 hingga 18.00 sore. Pola ini mengindikasikan bahwa sepeda banyak digunakan untuk perjalanan pergi dan pulang kerja atau sekolah. Di luar jam-jam sibuk tersebut, jumlah penyewaan cenderung menurun, terutama pada tengah malam hingga subuh. Ini menunjukkan bahwa sepeda lebih banyak digunakan untuk aktivitas rutin sehari-hari dibandingkan dengan keperluan rekreasi yang lebih fleksibel waktunya."
      ]
    },
    {
      "cell_type": "code",
      "source": [
        "all_df.to_csv(\"all_data.csv\", index=False)"
      ],
      "metadata": {
        "id": "h2lZk5ylUq8E"
      },
      "execution_count": 137,
      "outputs": []
    }
  ],
  "metadata": {
    "kernelspec": {
      "display_name": "Python 3",
      "language": "python",
      "name": "python3"
    },
    "language_info": {
      "name": "python",
      "version": "3.8.0 (tags/v3.8.0:fa919fd, Oct 14 2019, 19:21:23) [MSC v.1916 32 bit (Intel)]"
    },
    "orig_nbformat": 4,
    "vscode": {
      "interpreter": {
        "hash": "972b3bf27e332e87b5379f2791f6ef9dfc79c71018c370b0d7423235e20fe4d7"
      }
    },
    "colab": {
      "provenance": []
    }
  },
  "nbformat": 4,
  "nbformat_minor": 0
}